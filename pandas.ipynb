{
 "cells": [
  {
   "cell_type": "markdown",
   "id": "7a5e5d6b-5848-4fb8-94bc-d71a81007f2d",
   "metadata": {},
   "source": [
    "# Pandas "
   ]
  },
  {
   "cell_type": "code",
   "execution_count": 3,
   "id": "initial_id",
   "metadata": {
    "ExecuteTime": {
     "end_time": "2024-04-06T21:05:17.693522Z",
     "start_time": "2024-04-06T21:05:17.679719Z"
    }
   },
   "outputs": [],
   "source": [
    "import pandas as pd"
   ]
  },
  {
   "cell_type": "markdown",
   "id": "3f19822c-fa07-4889-a8cd-5c790ad6c4ec",
   "metadata": {},
   "source": [
    "## Data Structures of Pandas\n",
    "- series\n",
    "- dataframe"
   ]
  },
  {
   "cell_type": "markdown",
   "id": "870b4ae7-860c-4356-af21-1657ce2d40dc",
   "metadata": {},
   "source": [
    "### Series"
   ]
  },
  {
   "cell_type": "code",
   "execution_count": 5,
   "id": "390c312f-bd0c-45cd-9328-3bc273633e52",
   "metadata": {},
   "outputs": [],
   "source": [
    "a=pd.Series([1,2,3,4]) #similar to 1D array"
   ]
  },
  {
   "cell_type": "code",
   "execution_count": 6,
   "id": "e9ea96cc-c38d-4989-be7d-a59a105cccbd",
   "metadata": {},
   "outputs": [
    {
     "data": {
      "text/plain": [
       "0    1\n",
       "1    2\n",
       "2    3\n",
       "3    4\n",
       "dtype: int64"
      ]
     },
     "execution_count": 6,
     "metadata": {},
     "output_type": "execute_result"
    }
   ],
   "source": [
    "a"
   ]
  },
  {
   "cell_type": "code",
   "execution_count": 7,
   "id": "15d88061-7f44-4b9e-9a4d-41e66e08c1a8",
   "metadata": {},
   "outputs": [
    {
     "data": {
      "text/plain": [
       "2"
      ]
     },
     "execution_count": 7,
     "metadata": {},
     "output_type": "execute_result"
    }
   ],
   "source": [
    "a[1]"
   ]
  },
  {
   "cell_type": "code",
   "execution_count": 8,
   "id": "1d4ab9ce-f7c5-41e0-a1f5-729cbf09a16c",
   "metadata": {},
   "outputs": [
    {
     "data": {
      "text/plain": [
       "0    1\n",
       "1    2\n",
       "2    3\n",
       "dtype: int64"
      ]
     },
     "execution_count": 8,
     "metadata": {},
     "output_type": "execute_result"
    }
   ],
   "source": [
    "a[:3]"
   ]
  },
  {
   "cell_type": "code",
   "execution_count": 9,
   "id": "67d42e84-1397-4872-8337-dcdd6a115634",
   "metadata": {},
   "outputs": [
    {
     "data": {
      "text/plain": [
       "3    4\n",
       "2    3\n",
       "1    2\n",
       "0    1\n",
       "dtype: int64"
      ]
     },
     "execution_count": 9,
     "metadata": {},
     "output_type": "execute_result"
    }
   ],
   "source": [
    "a[::-1]"
   ]
  },
  {
   "cell_type": "code",
   "execution_count": 24,
   "id": "638d8f27-fc2a-4a8b-93f3-a8dac5afab2a",
   "metadata": {},
   "outputs": [
    {
     "name": "stderr",
     "output_type": "stream",
     "text": [
      "C:\\Users\\AA\\AppData\\Local\\Temp\\ipykernel_6084\\3448033313.py:1: FutureWarning: Series.__getitem__ treating keys as positions is deprecated. In a future version, integer keys will always be treated as labels (consistent with DataFrame behavior). To access a value by position, use `ser.iloc[pos]`\n",
      "  a[[3,2,1]]\n"
     ]
    },
    {
     "data": {
      "text/plain": [
       "d    4\n",
       "c    3\n",
       "b    2\n",
       "dtype: int64"
      ]
     },
     "execution_count": 24,
     "metadata": {},
     "output_type": "execute_result"
    }
   ],
   "source": [
    "a[[3,2,1]]"
   ]
  },
  {
   "cell_type": "markdown",
   "id": "e5232a5d-8076-47a0-ac52-a1e19b5d78b2",
   "metadata": {},
   "source": [
    "> values"
   ]
  },
  {
   "cell_type": "code",
   "execution_count": 10,
   "id": "c117a82b-c0b3-43cb-8b4a-1f40f1c2e15e",
   "metadata": {},
   "outputs": [
    {
     "data": {
      "text/plain": [
       "array([1, 2, 3, 4], dtype=int64)"
      ]
     },
     "execution_count": 10,
     "metadata": {},
     "output_type": "execute_result"
    }
   ],
   "source": [
    "a.values"
   ]
  },
  {
   "cell_type": "markdown",
   "id": "991be86a-7320-4ad6-9e96-5571e73fe2d3",
   "metadata": {},
   "source": [
    "> index"
   ]
  },
  {
   "cell_type": "code",
   "execution_count": 11,
   "id": "127a3aa3-b09b-4235-8ca0-db82779ccec5",
   "metadata": {},
   "outputs": [
    {
     "data": {
      "text/plain": [
       "RangeIndex(start=0, stop=4, step=1)"
      ]
     },
     "execution_count": 11,
     "metadata": {},
     "output_type": "execute_result"
    }
   ],
   "source": [
    "a.index"
   ]
  },
  {
   "cell_type": "code",
   "execution_count": 12,
   "id": "91c8e9a3-b0a1-4826-adfd-fd2c8b295cb5",
   "metadata": {},
   "outputs": [],
   "source": [
    "a.index=[\"a\",\"b\",\"c\",\"d\"]"
   ]
  },
  {
   "cell_type": "code",
   "execution_count": 13,
   "id": "f044d664-bd93-485a-b8a3-c50841efe05c",
   "metadata": {},
   "outputs": [
    {
     "data": {
      "text/plain": [
       "a    1\n",
       "b    2\n",
       "c    3\n",
       "d    4\n",
       "dtype: int64"
      ]
     },
     "execution_count": 13,
     "metadata": {},
     "output_type": "execute_result"
    }
   ],
   "source": [
    "a"
   ]
  },
  {
   "cell_type": "code",
   "execution_count": 14,
   "id": "f0e56260-5634-4b44-90a4-0cceaeb12ee7",
   "metadata": {},
   "outputs": [
    {
     "data": {
      "text/plain": [
       "3"
      ]
     },
     "execution_count": 14,
     "metadata": {},
     "output_type": "execute_result"
    }
   ],
   "source": [
    "a[\"c\"]"
   ]
  },
  {
   "cell_type": "code",
   "execution_count": 15,
   "id": "ae1d6fd7-989e-4b61-aa3a-f8b0c2241065",
   "metadata": {},
   "outputs": [],
   "source": [
    "b=pd.Series([5,3,2,1],index=[1,2,3,4])"
   ]
  },
  {
   "cell_type": "code",
   "execution_count": 16,
   "id": "57d20b15-72ee-4628-9570-6cf71e08aae2",
   "metadata": {},
   "outputs": [
    {
     "data": {
      "text/plain": [
       "1    5\n",
       "2    3\n",
       "3    2\n",
       "4    1\n",
       "dtype: int64"
      ]
     },
     "execution_count": 16,
     "metadata": {},
     "output_type": "execute_result"
    }
   ],
   "source": [
    "b"
   ]
  },
  {
   "cell_type": "markdown",
   "id": "b5caa575-8aa0-4ef8-9410-91068ef6b1aa",
   "metadata": {},
   "source": [
    "> normal operations"
   ]
  },
  {
   "cell_type": "code",
   "execution_count": 17,
   "id": "065ae21b-42a0-4e7e-acbc-f3f19a6d8e28",
   "metadata": {},
   "outputs": [],
   "source": [
    "b[1]=4"
   ]
  },
  {
   "cell_type": "code",
   "execution_count": 18,
   "id": "7c271b43-8204-4e14-b6e6-786fb6fe5631",
   "metadata": {},
   "outputs": [
    {
     "data": {
      "text/plain": [
       "1    4\n",
       "2    3\n",
       "3    2\n",
       "4    1\n",
       "dtype: int64"
      ]
     },
     "execution_count": 18,
     "metadata": {},
     "output_type": "execute_result"
    }
   ],
   "source": [
    "b"
   ]
  },
  {
   "cell_type": "code",
   "execution_count": 20,
   "id": "de32bbfd-7ae7-4ebd-aa23-502c78f06373",
   "metadata": {},
   "outputs": [
    {
     "data": {
      "text/plain": [
       "1    4\n",
       "2    3\n",
       "dtype: int64"
      ]
     },
     "execution_count": 20,
     "metadata": {},
     "output_type": "execute_result"
    }
   ],
   "source": [
    "b[b>2]  # all values of b which are greater than 2"
   ]
  },
  {
   "cell_type": "code",
   "execution_count": 21,
   "id": "ad0c14c6-ddb5-41c7-ad8c-c021f8a04963",
   "metadata": {},
   "outputs": [
    {
     "data": {
      "text/plain": [
       "1    8\n",
       "2    6\n",
       "3    4\n",
       "4    2\n",
       "dtype: int64"
      ]
     },
     "execution_count": 21,
     "metadata": {},
     "output_type": "execute_result"
    }
   ],
   "source": [
    "b*2 # gives new array (check next cell)"
   ]
  },
  {
   "cell_type": "code",
   "execution_count": 22,
   "id": "a91f9b90-0536-4eb9-96dd-39545676e6da",
   "metadata": {},
   "outputs": [
    {
     "data": {
      "text/plain": [
       "1    4\n",
       "2    3\n",
       "3    2\n",
       "4    1\n",
       "dtype: int64"
      ]
     },
     "execution_count": 22,
     "metadata": {},
     "output_type": "execute_result"
    }
   ],
   "source": [
    "b"
   ]
  },
  {
   "cell_type": "code",
   "execution_count": 25,
   "id": "a66e8536-7f64-4bd6-8c0a-564a195d935b",
   "metadata": {},
   "outputs": [
    {
     "data": {
      "text/plain": [
       "True"
      ]
     },
     "execution_count": 25,
     "metadata": {},
     "output_type": "execute_result"
    }
   ],
   "source": [
    "3 in b"
   ]
  },
  {
   "cell_type": "markdown",
   "id": "57f17360-f062-43c5-aa2f-1b27022af673",
   "metadata": {},
   "source": [
    "> ndarray as series"
   ]
  },
  {
   "cell_type": "code",
   "execution_count": 26,
   "id": "cc8f056e-78a8-4b01-b504-c9dae0d7cd83",
   "metadata": {},
   "outputs": [],
   "source": [
    "import numpy as np"
   ]
  },
  {
   "cell_type": "code",
   "execution_count": 27,
   "id": "450a9f15-e80f-4b34-8bf1-03dccfff59f1",
   "metadata": {},
   "outputs": [],
   "source": [
    "a=np.array([12,4,76,21,3,5])"
   ]
  },
  {
   "cell_type": "code",
   "execution_count": 28,
   "id": "b7b7c934-a1ab-4299-86ef-7276277370ae",
   "metadata": {},
   "outputs": [
    {
     "data": {
      "text/plain": [
       "0    12\n",
       "1     4\n",
       "2    76\n",
       "3    21\n",
       "4     3\n",
       "5     5\n",
       "dtype: int32"
      ]
     },
     "execution_count": 28,
     "metadata": {},
     "output_type": "execute_result"
    }
   ],
   "source": [
    "pd.Series(a)"
   ]
  },
  {
   "cell_type": "markdown",
   "id": "7e310615-c89d-436a-97e9-7e9281fedc35",
   "metadata": {},
   "source": [
    "> dictonary as series"
   ]
  },
  {
   "cell_type": "code",
   "execution_count": 29,
   "id": "5fde6e19-6088-4bb6-9ba4-b728f709c173",
   "metadata": {},
   "outputs": [],
   "source": [
    "dic={\"a\":1,\"b\":2,\"C\":3}"
   ]
  },
  {
   "cell_type": "code",
   "execution_count": 42,
   "id": "2c118bc0-5b1a-4f94-886c-8601d8c9ddfd",
   "metadata": {},
   "outputs": [],
   "source": [
    "b=pd.Series(dic)"
   ]
  },
  {
   "cell_type": "code",
   "execution_count": 43,
   "id": "7e8eabd5-4727-4843-bb2c-b4eb9fe2b495",
   "metadata": {},
   "outputs": [
    {
     "data": {
      "text/plain": [
       "a    1\n",
       "b    2\n",
       "C    3\n",
       "dtype: int64"
      ]
     },
     "execution_count": 43,
     "metadata": {},
     "output_type": "execute_result"
    }
   ],
   "source": [
    "b"
   ]
  },
  {
   "cell_type": "code",
   "execution_count": 33,
   "id": "b3c62047-e0d0-43b8-b2f5-014f9302ec91",
   "metadata": {},
   "outputs": [],
   "source": [
    "lis=[\"a\",\"b\",\"C\",\"d\",\"e\",\"f\"]"
   ]
  },
  {
   "cell_type": "markdown",
   "id": "f480309b-b3b8-4373-ab75-78a7b6ba7247",
   "metadata": {},
   "source": [
    "-"
   ]
  },
  {
   "cell_type": "code",
   "execution_count": 35,
   "id": "f495efc2-8085-46c7-9a97-3a3928d14737",
   "metadata": {},
   "outputs": [],
   "source": [
    "a=pd.Series(dic,index=lis)"
   ]
  },
  {
   "cell_type": "code",
   "execution_count": 36,
   "id": "2b300aa9-5cb5-4470-b4e6-20f6b89783ef",
   "metadata": {},
   "outputs": [
    {
     "data": {
      "text/plain": [
       "a    1.0\n",
       "b    2.0\n",
       "C    3.0\n",
       "d    NaN\n",
       "e    NaN\n",
       "f    NaN\n",
       "dtype: float64"
      ]
     },
     "execution_count": 36,
     "metadata": {},
     "output_type": "execute_result"
    }
   ],
   "source": [
    "a"
   ]
  },
  {
   "cell_type": "markdown",
   "id": "fd488381-c586-4c6a-a531-6fdd5e431afb",
   "metadata": {},
   "source": [
    " #### first funtion\n",
    "- > isnull\n",
    "- > notnull"
   ]
  },
  {
   "cell_type": "code",
   "execution_count": 41,
   "id": "a745fefd-92cc-428f-a0d4-eb012fa56a7f",
   "metadata": {},
   "outputs": [
    {
     "data": {
      "text/plain": [
       "a    False\n",
       "b    False\n",
       "C    False\n",
       "d     True\n",
       "e     True\n",
       "f     True\n",
       "dtype: bool"
      ]
     },
     "execution_count": 41,
     "metadata": {},
     "output_type": "execute_result"
    }
   ],
   "source": [
    "pd.isnull(a)"
   ]
  },
  {
   "cell_type": "code",
   "execution_count": 38,
   "id": "a84f8ecd-2c3b-4839-8d1c-97aa20c92bbf",
   "metadata": {},
   "outputs": [
    {
     "data": {
      "text/plain": [
       "a     True\n",
       "b     True\n",
       "C     True\n",
       "d    False\n",
       "e    False\n",
       "f    False\n",
       "dtype: bool"
      ]
     },
     "execution_count": 38,
     "metadata": {},
     "output_type": "execute_result"
    }
   ],
   "source": [
    "pd.notnull(a)"
   ]
  },
  {
   "cell_type": "code",
   "execution_count": 44,
   "id": "5150185e-d9cd-4105-8aee-2a9c43e7a5e0",
   "metadata": {},
   "outputs": [
    {
     "data": {
      "text/plain": [
       "(a    1.0\n",
       " b    2.0\n",
       " C    3.0\n",
       " d    NaN\n",
       " e    NaN\n",
       " f    NaN\n",
       " dtype: float64,\n",
       " a    1\n",
       " b    2\n",
       " C    3\n",
       " dtype: int64)"
      ]
     },
     "execution_count": 44,
     "metadata": {},
     "output_type": "execute_result"
    }
   ],
   "source": [
    "a,b"
   ]
  },
  {
   "cell_type": "code",
   "execution_count": 45,
   "id": "94b8dcba-48b2-4e8a-a9d3-c840deb2d606",
   "metadata": {},
   "outputs": [
    {
     "data": {
      "text/plain": [
       "C    6.0\n",
       "a    2.0\n",
       "b    4.0\n",
       "d    NaN\n",
       "e    NaN\n",
       "f    NaN\n",
       "dtype: float64"
      ]
     },
     "execution_count": 45,
     "metadata": {},
     "output_type": "execute_result"
    }
   ],
   "source": [
    "a+b"
   ]
  },
  {
   "cell_type": "markdown",
   "id": "c67a647d-6697-482f-83c2-21b10b4d84b6",
   "metadata": {},
   "source": [
    "> name"
   ]
  },
  {
   "cell_type": "code",
   "execution_count": 50,
   "id": "adf59017-2ef4-4d22-9497-5ff972f57632",
   "metadata": {},
   "outputs": [
    {
     "name": "stdout",
     "output_type": "stream",
     "text": [
      "None\n"
     ]
    }
   ],
   "source": [
    "print(b.name)"
   ]
  },
  {
   "cell_type": "code",
   "execution_count": 51,
   "id": "93a5ca58-e1d1-4e80-a060-dc303efaaeea",
   "metadata": {},
   "outputs": [],
   "source": [
    "b.name=\"numbers\""
   ]
  },
  {
   "cell_type": "code",
   "execution_count": 52,
   "id": "2e651ab3-0d3a-4d6a-ba1e-ca14a53753b0",
   "metadata": {},
   "outputs": [
    {
     "data": {
      "text/plain": [
       "'numbers'"
      ]
     },
     "execution_count": 52,
     "metadata": {},
     "output_type": "execute_result"
    }
   ],
   "source": [
    "b.name"
   ]
  },
  {
   "cell_type": "code",
   "execution_count": 56,
   "id": "d5208c05-3fc7-4e80-9192-82b6a7ef632b",
   "metadata": {},
   "outputs": [],
   "source": [
    "b.index.name=\"alp\""
   ]
  },
  {
   "cell_type": "code",
   "execution_count": 57,
   "id": "6c87c6e6-ca8d-4cf4-a441-5323f3953997",
   "metadata": {},
   "outputs": [
    {
     "data": {
      "text/plain": [
       "alp\n",
       "a    1\n",
       "b    2\n",
       "C    3\n",
       "Name: numbers, dtype: int64"
      ]
     },
     "execution_count": 57,
     "metadata": {},
     "output_type": "execute_result"
    }
   ],
   "source": [
    "b"
   ]
  },
  {
   "cell_type": "markdown",
   "id": "dfb2924c-c8ee-4241-9fd6-ad39990c1077",
   "metadata": {},
   "source": [
    "### DataFrame"
   ]
  },
  {
   "cell_type": "code",
   "execution_count": null,
   "id": "a5779dfc-f003-46a5-8be4-f4aacfa4feed",
   "metadata": {},
   "outputs": [],
   "source": []
  },
  {
   "cell_type": "code",
   "execution_count": null,
   "id": "dff63be4-fcf9-462b-b270-a00de03536ff",
   "metadata": {},
   "outputs": [],
   "source": []
  }
 ],
 "metadata": {
  "kernelspec": {
   "display_name": "Python 3 (ipykernel)",
   "language": "python",
   "name": "python3"
  },
  "language_info": {
   "codemirror_mode": {
    "name": "ipython",
    "version": 3
   },
   "file_extension": ".py",
   "mimetype": "text/x-python",
   "name": "python",
   "nbconvert_exporter": "python",
   "pygments_lexer": "ipython3",
   "version": "3.12.2"
  }
 },
 "nbformat": 4,
 "nbformat_minor": 5
}
