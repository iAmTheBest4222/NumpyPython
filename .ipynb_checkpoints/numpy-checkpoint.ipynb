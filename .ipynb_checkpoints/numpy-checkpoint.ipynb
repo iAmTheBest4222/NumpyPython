{
 "cells": [
  {
   "cell_type": "markdown",
   "source": [
    "* # Numpy from scratch"
   ],
   "metadata": {
    "collapsed": false
   },
   "id": "48009fe377573b1f"
  },
  {
   "cell_type": "code",
   "outputs": [],
   "source": [
    "import numpy as np"
   ],
   "metadata": {
    "collapsed": false,
    "ExecuteTime": {
     "end_time": "2024-03-12T18:08:01.795576Z",
     "start_time": "2024-03-12T18:08:01.789210Z"
    }
   },
   "id": "a75003267e2400bd",
   "execution_count": 2
  },
  {
   "cell_type": "code",
   "outputs": [],
   "source": [
    "a=np.array([12,3,4,5])"
   ],
   "metadata": {
    "collapsed": false,
    "ExecuteTime": {
     "end_time": "2024-03-12T18:08:19.330707Z",
     "start_time": "2024-03-12T18:08:19.321747Z"
    }
   },
   "id": "6765e8fcf0cbe057",
   "execution_count": 3
  },
  {
   "cell_type": "code",
   "outputs": [],
   "source": [],
   "metadata": {
    "collapsed": false
   },
   "id": "29e8c64bf3d8ae56"
  }
 ],
 "metadata": {
  "kernelspec": {
   "display_name": "Python 3",
   "language": "python",
   "name": "python3"
  },
  "language_info": {
   "codemirror_mode": {
    "name": "ipython",
    "version": 2
   },
   "file_extension": ".py",
   "mimetype": "text/x-python",
   "name": "python",
   "nbconvert_exporter": "python",
   "pygments_lexer": "ipython2",
   "version": "2.7.6"
  }
 },
 "nbformat": 4,
 "nbformat_minor": 5
}
