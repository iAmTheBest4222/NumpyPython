{
 "cells": [
  {
   "cell_type": "markdown",
   "id": "7c8eebad-293d-499f-a43f-b115480bf424",
   "metadata": {
    "collapsed": false,
    "jupyter": {
     "outputs_hidden": false
    }
   },
   "source": [
    "- # Numpy from scratch"
   ]
  },
  {
   "cell_type": "code",
   "execution_count": 1,
   "id": "d18a3c74-1d25-441a-903e-08999d917772",
   "metadata": {
    "ExecuteTime": {
     "end_time": "2024-03-16T18:20:12.493884Z",
     "start_time": "2024-03-16T18:20:11.100628Z"
    },
    "collapsed": false,
    "jupyter": {
     "outputs_hidden": false
    }
   },
   "outputs": [],
   "source": [
    "import numpy as np"
   ]
  },
  {
   "cell_type": "markdown",
   "id": "be0c6b96-2104-4aeb-9c29-c38178bf790b",
   "metadata": {},
   "source": [
    "## Datatypes in numpy"
   ]
  },
  {
   "cell_type": "markdown",
   "id": "10001f9b-1bcb-43ba-b8a0-e0b369907f05",
   "metadata": {},
   "source": [
    "Below is a list of all data types in NumPy and the characters used to represent them.\n",
    "\n",
    "- i - integer\n",
    "- b - boolean\n",
    "- str - string\n",
    "- f - float\n",
    "- m - timedelta\n",
    "- M - datetime\n",
    "- O - object\n",
    "- u - unsigned integer\n",
    "- c - complex float\n",
    "- U - unicode string\n",
    "- V - fixed chunk of memory for other type ( void )"
   ]
  },
  {
   "cell_type": "markdown",
   "id": "c530de31-1e07-44c0-950a-e7e233c64fdf",
   "metadata": {},
   "source": [
    "## How to creat numpy array "
   ]
  },
  {
   "cell_type": "markdown",
   "id": "50222814-7c09-42e1-84ca-59aa5f8efb3e",
   "metadata": {},
   "source": [
    "desc\n",
    "\n",
    "- start -> int\n",
    "- stop  -> int\n",
    "- step  -> int\n",
    "- shape -> (2,3) or 2\n",
    "- order -> int\n",
    "- M     -> int\n",
    "- N     -> int\n",
    "- k     -> int\n"
   ]
  },
  {
   "cell_type": "code",
   "execution_count": 2,
   "id": "6765e8fcf0cbe057",
   "metadata": {
    "ExecuteTime": {
     "end_time": "2024-03-16T18:20:12.518247Z",
     "start_time": "2024-03-16T18:20:12.499699Z"
    },
    "collapsed": false,
    "jupyter": {
     "outputs_hidden": false
    }
   },
   "outputs": [
    {
     "data": {
      "text/plain": [
       "array([12,  3,  4,  5])"
      ]
     },
     "execution_count": 2,
     "metadata": {},
     "output_type": "execute_result"
    }
   ],
   "source": [
    "a=np.array([12,3,4,5])\n",
    "a"
   ]
  },
  {
   "cell_type": "code",
   "execution_count": 3,
   "id": "29e8c64bf3d8ae56",
   "metadata": {
    "ExecuteTime": {
     "end_time": "2024-03-16T18:20:12.542979Z",
     "start_time": "2024-03-16T18:20:12.523483Z"
    },
    "collapsed": false,
    "jupyter": {
     "outputs_hidden": false
    }
   },
   "outputs": [
    {
     "data": {
      "text/plain": [
       "(array([ 1,  2,  3,  4,  5,  6,  7,  8,  9, 10]),\n",
       " array([0, 1, 2, 3, 4, 5, 6, 7, 8, 9]))"
      ]
     },
     "execution_count": 3,
     "metadata": {},
     "output_type": "execute_result"
    }
   ],
   "source": [
    "a1=np.arange(1,11)     # arange(start,stop,step,dtype,like=None)\n",
    "a2=np.arange(10)\n",
    "a1,a2"
   ]
  },
  {
   "cell_type": "code",
   "execution_count": 4,
   "id": "2f96c96b-1242-4982-a5ff-e62761d88d4a",
   "metadata": {
    "ExecuteTime": {
     "end_time": "2024-03-16T18:20:12.562056Z",
     "start_time": "2024-03-16T18:20:12.548489Z"
    }
   },
   "outputs": [
    {
     "data": {
      "text/plain": [
       "array([[2.12199579e-314, 4.67296746e-307],\n",
       "       [7.13430793e-321, 6.34476742e-312]])"
      ]
     },
     "execution_count": 4,
     "metadata": {},
     "output_type": "execute_result"
    }
   ],
   "source": [
    "a=np.empty((2,2))     #empty(shape,dtype,order,like)\n",
    "a"
   ]
  },
  {
   "cell_type": "code",
   "execution_count": 5,
   "id": "bd21b6a9-8681-45ee-a0be-3e3237fd6db4",
   "metadata": {
    "ExecuteTime": {
     "end_time": "2024-03-16T18:20:12.581289Z",
     "start_time": "2024-03-16T18:20:12.566387Z"
    }
   },
   "outputs": [
    {
     "data": {
      "text/plain": [
       "array([1., 1., 1., 1., 1., 1., 1., 1., 1., 1.])"
      ]
     },
     "execution_count": 5,
     "metadata": {},
     "output_type": "execute_result"
    }
   ],
   "source": [
    "a=np.ones(10,)     #ones(shape,dtype,order,like)\n",
    "a"
   ]
  },
  {
   "cell_type": "code",
   "execution_count": 6,
   "id": "7ea7671a-341b-4ede-8d02-8707cf9d2f07",
   "metadata": {
    "ExecuteTime": {
     "end_time": "2024-03-16T18:20:12.600318Z",
     "start_time": "2024-03-16T18:20:12.586660Z"
    }
   },
   "outputs": [
    {
     "data": {
      "text/plain": [
       "array([[0., 0., 0., 0., 0.],\n",
       "       [0., 0., 0., 0., 0.],\n",
       "       [0., 0., 0., 0., 0.],\n",
       "       [0., 0., 0., 0., 0.],\n",
       "       [0., 0., 0., 0., 0.]])"
      ]
     },
     "execution_count": 6,
     "metadata": {},
     "output_type": "execute_result"
    }
   ],
   "source": [
    "a=np.zeros((5,5))  # zerosones(shape,dtype,order,like)\n",
    "a"
   ]
  },
  {
   "cell_type": "code",
   "execution_count": 7,
   "id": "76d12cbd-4e77-4e7a-9a27-6b3c4422b669",
   "metadata": {
    "ExecuteTime": {
     "end_time": "2024-03-16T18:20:12.618239Z",
     "start_time": "2024-03-16T18:20:12.604740Z"
    }
   },
   "outputs": [
    {
     "data": {
      "text/plain": [
       "array([[1., 0.],\n",
       "       [0., 1.]])"
      ]
     },
     "execution_count": 7,
     "metadata": {},
     "output_type": "execute_result"
    }
   ],
   "source": [
    "a=np.eye(2,2)    #eye(N,M,k,dtype,order)\n",
    "a"
   ]
  },
  {
   "cell_type": "code",
   "execution_count": 8,
   "id": "35b957da-fe33-4a28-9167-8e570c9bbbaa",
   "metadata": {
    "ExecuteTime": {
     "end_time": "2024-03-16T18:20:13.033188Z",
     "start_time": "2024-03-16T18:20:12.621621Z"
    }
   },
   "outputs": [
    {
     "data": {
      "text/plain": [
       "array([[10,  1,  6,  8],\n",
       "       [ 3,  6,  7,  8],\n",
       "       [ 4,  5, 10,  4]], dtype=int32)"
      ]
     },
     "execution_count": 8,
     "metadata": {},
     "output_type": "execute_result"
    }
   ],
   "source": [
    "a=np.random.randint(1,11,size=(3,4))\n",
    "a"
   ]
  },
  {
   "cell_type": "markdown",
   "id": "b7fbdb68-508f-47c8-b9ec-226b8922430d",
   "metadata": {
    "jp-MarkdownHeadingCollapsed": true
   },
   "source": [
    "## Attributes of ndarray"
   ]
  },
  {
   "cell_type": "code",
   "execution_count": 9,
   "id": "9b72266b-fa99-4d0e-a8d2-63dfd9c69823",
   "metadata": {
    "ExecuteTime": {
     "end_time": "2024-03-16T18:20:13.044745Z",
     "start_time": "2024-03-16T18:20:13.036541Z"
    }
   },
   "outputs": [],
   "source": [
    "a1=np.array([1,2,3,4,5])\n",
    "a2=np.array([[1,2],[3,4]])"
   ]
  },
  {
   "cell_type": "code",
   "execution_count": 10,
   "id": "aed5b52e-45f6-4c8b-be35-e16b50cc138b",
   "metadata": {
    "ExecuteTime": {
     "end_time": "2024-03-16T18:20:13.066012Z",
     "start_time": "2024-03-16T18:20:13.053503Z"
    }
   },
   "outputs": [
    {
     "data": {
      "text/plain": [
       "numpy.ndarray"
      ]
     },
     "execution_count": 10,
     "metadata": {},
     "output_type": "execute_result"
    }
   ],
   "source": [
    "type(a1)"
   ]
  },
  {
   "cell_type": "code",
   "execution_count": 11,
   "id": "e5ed5155-b573-4e20-8694-fd01ac28c105",
   "metadata": {
    "ExecuteTime": {
     "end_time": "2024-03-16T18:20:13.106249Z",
     "start_time": "2024-03-16T18:20:13.069341Z"
    }
   },
   "outputs": [
    {
     "name": "stdout",
     "output_type": "stream",
     "text": [
      "(5,)\n",
      "(2, 2)\n"
     ]
    }
   ],
   "source": [
    "print(a1.shape)\n",
    "print(a2.shape)"
   ]
  },
  {
   "cell_type": "code",
   "execution_count": 12,
   "id": "df6aee38-e934-4066-9369-2f6db64520bf",
   "metadata": {
    "ExecuteTime": {
     "end_time": "2024-03-16T18:20:13.117722Z",
     "start_time": "2024-03-16T18:20:13.109593Z"
    }
   },
   "outputs": [
    {
     "name": "stdout",
     "output_type": "stream",
     "text": [
      "1\n",
      "2\n"
     ]
    }
   ],
   "source": [
    "print(a1.ndim)\n",
    "print(a2.ndim)"
   ]
  },
  {
   "cell_type": "code",
   "execution_count": 13,
   "id": "a767682f-aa20-4e4d-8ba7-67314eb7096b",
   "metadata": {
    "ExecuteTime": {
     "end_time": "2024-03-16T18:20:13.132054Z",
     "start_time": "2024-03-16T18:20:13.121078Z"
    }
   },
   "outputs": [
    {
     "name": "stdout",
     "output_type": "stream",
     "text": [
      "int64\n",
      "int64\n"
     ]
    }
   ],
   "source": [
    "print(a1.dtype)\n",
    "print(a2.dtype)"
   ]
  },
  {
   "cell_type": "code",
   "execution_count": 14,
   "id": "e23b60ff-1022-44b6-aff4-325053410b86",
   "metadata": {
    "ExecuteTime": {
     "end_time": "2024-03-16T18:20:13.143130Z",
     "start_time": "2024-03-16T18:20:13.135357Z"
    }
   },
   "outputs": [
    {
     "name": "stdout",
     "output_type": "stream",
     "text": [
      "8\n",
      "8\n"
     ]
    }
   ],
   "source": [
    "print(a1.itemsize)\n",
    "print(a2.itemsize)"
   ]
  },
  {
   "cell_type": "markdown",
   "id": "8dc7135f-c63a-4809-9b7b-862d5c18730b",
   "metadata": {
    "jp-MarkdownHeadingCollapsed": true
   },
   "source": [
    "# Indexing , Sylicing & Updating"
   ]
  },
  {
   "cell_type": "code",
   "execution_count": null,
   "id": "e260ed53-fa57-4f06-93bc-fb117247b867",
   "metadata": {
    "ExecuteTime": {
     "end_time": "2024-03-16T18:20:13.152854Z",
     "start_time": "2024-03-16T18:20:13.146505Z"
    }
   },
   "outputs": [],
   "source": []
  },
  {
   "cell_type": "code",
   "execution_count": 15,
   "id": "dab78ceb-9d5e-496a-a541-c20d066fbe99",
   "metadata": {
    "ExecuteTime": {
     "end_time": "2024-03-16T18:20:13.165255Z",
     "start_time": "2024-03-16T18:20:13.156732Z"
    }
   },
   "outputs": [],
   "source": [
    "a=np.array([1,2,3,4,5,6,7])\n",
    "b=np.array([[1,2],[3,4]])"
   ]
  },
  {
   "cell_type": "markdown",
   "id": "dd67e51b-2260-43be-ab1a-f46f96f8c241",
   "metadata": {},
   "source": [
    "### indexing"
   ]
  },
  {
   "cell_type": "code",
   "execution_count": 16,
   "id": "379c688a-2093-47a7-acd3-2534bec0bee3",
   "metadata": {
    "ExecuteTime": {
     "end_time": "2024-03-16T18:20:13.178947Z",
     "start_time": "2024-03-16T18:20:13.167459Z"
    }
   },
   "outputs": [
    {
     "data": {
      "text/plain": [
       "np.int64(1)"
      ]
     },
     "execution_count": 16,
     "metadata": {},
     "output_type": "execute_result"
    }
   ],
   "source": [
    "a[0]"
   ]
  },
  {
   "cell_type": "code",
   "execution_count": 17,
   "id": "9467527a-b882-4c3f-b2f1-2dd1b53c5a10",
   "metadata": {
    "ExecuteTime": {
     "end_time": "2024-03-16T18:20:13.192287Z",
     "start_time": "2024-03-16T18:20:13.182101Z"
    }
   },
   "outputs": [
    {
     "data": {
      "text/plain": [
       "array([1, 2])"
      ]
     },
     "execution_count": 17,
     "metadata": {},
     "output_type": "execute_result"
    }
   ],
   "source": [
    "b[0]"
   ]
  },
  {
   "cell_type": "code",
   "execution_count": 18,
   "id": "9218799f-9244-4dfe-a658-23f504b19094",
   "metadata": {
    "ExecuteTime": {
     "end_time": "2024-03-16T18:20:13.207578Z",
     "start_time": "2024-03-16T18:20:13.195373Z"
    }
   },
   "outputs": [
    {
     "data": {
      "text/plain": [
       "np.int64(4)"
      ]
     },
     "execution_count": 18,
     "metadata": {},
     "output_type": "execute_result"
    }
   ],
   "source": [
    "b[1][0]\n",
    "b[1,1]"
   ]
  },
  {
   "cell_type": "markdown",
   "id": "5e473f22-474b-48a2-bef2-ff5c344f1950",
   "metadata": {},
   "source": [
    "- accesing multiple valuse"
   ]
  },
  {
   "cell_type": "code",
   "execution_count": 19,
   "id": "e83ca518-3d88-4fc9-906d-7d9104f77cca",
   "metadata": {
    "ExecuteTime": {
     "end_time": "2024-03-16T18:20:13.222292Z",
     "start_time": "2024-03-16T18:20:13.209830Z"
    }
   },
   "outputs": [
    {
     "data": {
      "text/plain": [
       "array([3, 1])"
      ]
     },
     "execution_count": 19,
     "metadata": {},
     "output_type": "execute_result"
    }
   ],
   "source": [
    "b[[1,0],[0,0]]"
   ]
  },
  {
   "cell_type": "markdown",
   "id": "5c6ff2b9-d1b7-4867-a00b-678d0b55b542",
   "metadata": {},
   "source": [
    "- indexing using boolen valuse"
   ]
  },
  {
   "cell_type": "code",
   "execution_count": 20,
   "id": "888b560f-096e-4bb3-be45-f9dec7dc1b9f",
   "metadata": {
    "ExecuteTime": {
     "end_time": "2024-03-16T18:20:13.235932Z",
     "start_time": "2024-03-16T18:20:13.225631Z"
    }
   },
   "outputs": [
    {
     "data": {
      "text/plain": [
       "array([17, 26, 54, 34, 68, 59, 54, 63, 93, 47], dtype=int32)"
      ]
     },
     "execution_count": 20,
     "metadata": {},
     "output_type": "execute_result"
    }
   ],
   "source": [
    "arr = np.random.randint(100, size = (10, ))\n",
    "arr"
   ]
  },
  {
   "cell_type": "code",
   "execution_count": 21,
   "id": "7244a152-5b8c-4e21-b56a-373b3661610f",
   "metadata": {
    "ExecuteTime": {
     "end_time": "2024-03-16T18:20:13.248551Z",
     "start_time": "2024-03-16T18:20:13.239226Z"
    }
   },
   "outputs": [
    {
     "name": "stdout",
     "output_type": "stream",
     "text": [
      "[17 59 93 47]\n"
     ]
    }
   ],
   "source": [
    "idx = [True, False, False, False, False, True, False, False, True, True]\n",
    "\n",
    "print(arr[idx])"
   ]
  },
  {
   "cell_type": "markdown",
   "id": "54008175-38c8-4873-89b9-c8959df55227",
   "metadata": {},
   "source": [
    "### Slycing"
   ]
  },
  {
   "cell_type": "code",
   "execution_count": 22,
   "id": "de9d71f5-31e8-450e-b5a3-a06d04d43143",
   "metadata": {
    "ExecuteTime": {
     "end_time": "2024-03-16T18:20:13.263246Z",
     "start_time": "2024-03-16T18:20:13.251958Z"
    }
   },
   "outputs": [
    {
     "data": {
      "text/plain": [
       "array([1, 2, 3])"
      ]
     },
     "execution_count": 22,
     "metadata": {},
     "output_type": "execute_result"
    }
   ],
   "source": [
    "a[:3]"
   ]
  },
  {
   "cell_type": "code",
   "execution_count": 23,
   "id": "2b3a5193-d7b5-4fe2-8288-ee90457d4d0d",
   "metadata": {
    "ExecuteTime": {
     "end_time": "2024-03-16T18:20:13.276879Z",
     "start_time": "2024-03-16T18:20:13.266608Z"
    }
   },
   "outputs": [
    {
     "data": {
      "text/plain": [
       "array([7, 6, 5, 4, 3, 2, 1])"
      ]
     },
     "execution_count": 23,
     "metadata": {},
     "output_type": "execute_result"
    }
   ],
   "source": [
    "a[::-1]"
   ]
  },
  {
   "cell_type": "code",
   "execution_count": 24,
   "id": "0f0abc4c-402b-45f0-ba72-304cea9b415a",
   "metadata": {
    "ExecuteTime": {
     "end_time": "2024-03-16T18:20:13.291735Z",
     "start_time": "2024-03-16T18:20:13.280153Z"
    }
   },
   "outputs": [
    {
     "data": {
      "text/plain": [
       "array([[ 1,  2,  3,  4],\n",
       "       [ 5,  6,  7,  8],\n",
       "       [ 9, 10, 11, 12]])"
      ]
     },
     "execution_count": 24,
     "metadata": {},
     "output_type": "execute_result"
    }
   ],
   "source": [
    "arr = np.array([[1, 2, 3, 4], [5, 6, 7, 8], [9, 10, 11, 12]])\n",
    "arr"
   ]
  },
  {
   "cell_type": "code",
   "execution_count": 25,
   "id": "ac44cde6-1cb2-423e-b123-827a617eea13",
   "metadata": {
    "ExecuteTime": {
     "end_time": "2024-03-16T18:20:13.304972Z",
     "start_time": "2024-03-16T18:20:13.295102Z"
    }
   },
   "outputs": [
    {
     "data": {
      "text/plain": [
       "array([[1, 2, 3, 4],\n",
       "       [5, 6, 7, 8]])"
      ]
     },
     "execution_count": 25,
     "metadata": {},
     "output_type": "execute_result"
    }
   ],
   "source": [
    "arr[0:2]"
   ]
  },
  {
   "cell_type": "markdown",
   "id": "b2f38697-8af2-4b98-bc97-add8b2a89cab",
   "metadata": {},
   "source": [
    "-"
   ]
  },
  {
   "cell_type": "code",
   "execution_count": 26,
   "id": "1ade3bfe-41a4-464b-aaf8-fb3eb5451ea1",
   "metadata": {
    "ExecuteTime": {
     "end_time": "2024-03-16T18:20:13.317705Z",
     "start_time": "2024-03-16T18:20:13.308352Z"
    }
   },
   "outputs": [
    {
     "data": {
      "text/plain": [
       "array([[1, 2],\n",
       "       [5, 6]])"
      ]
     },
     "execution_count": 26,
     "metadata": {},
     "output_type": "execute_result"
    }
   ],
   "source": [
    "arr[0:2,0:2]"
   ]
  },
  {
   "cell_type": "code",
   "execution_count": 27,
   "id": "4a6d99e7-cab0-4457-81a5-cd1f3a350f38",
   "metadata": {
    "ExecuteTime": {
     "end_time": "2024-03-16T18:20:13.338483Z",
     "start_time": "2024-03-16T18:20:13.326701Z"
    }
   },
   "outputs": [
    {
     "data": {
      "text/plain": [
       "array([], shape=(0, 4), dtype=int64)"
      ]
     },
     "execution_count": 27,
     "metadata": {},
     "output_type": "execute_result"
    }
   ],
   "source": [
    "arr[0:2][2:]"
   ]
  },
  {
   "cell_type": "code",
   "execution_count": 28,
   "id": "fc39b88c-f2d9-4975-b702-5ebe87d2f136",
   "metadata": {
    "ExecuteTime": {
     "end_time": "2024-03-16T18:20:13.358293Z",
     "start_time": "2024-03-16T18:20:13.342886Z"
    }
   },
   "outputs": [
    {
     "data": {
      "text/plain": [
       "array([[3, 4],\n",
       "       [7, 8]])"
      ]
     },
     "execution_count": 28,
     "metadata": {},
     "output_type": "execute_result"
    }
   ],
   "source": [
    "arr[0:2,2:]"
   ]
  },
  {
   "cell_type": "markdown",
   "id": "f6b0d6f5-f917-4fa1-90d5-1724c9184ce1",
   "metadata": {},
   "source": [
    "### Updating"
   ]
  },
  {
   "cell_type": "code",
   "execution_count": 29,
   "id": "18be8b58-d933-4c74-bd0e-819053d68fc6",
   "metadata": {
    "ExecuteTime": {
     "end_time": "2024-03-16T18:20:13.504415Z",
     "start_time": "2024-03-16T18:20:13.493979Z"
    }
   },
   "outputs": [
    {
     "name": "stdout",
     "output_type": "stream",
     "text": [
      "[[44 15 78 54]\n",
      " [91 27  5 94]\n",
      " [61 16 43  8]\n",
      " [17 88 25 63]\n",
      " [ 6 36 61 34]]\n"
     ]
    }
   ],
   "source": [
    "arr = np.random.randint(100, size = (5, 4))\n",
    "print(arr)"
   ]
  },
  {
   "cell_type": "code",
   "execution_count": 30,
   "id": "944622d9-09ee-417e-96ce-de0b41c47093",
   "metadata": {
    "ExecuteTime": {
     "end_time": "2024-03-16T18:20:14.697759Z",
     "start_time": "2024-03-16T18:20:14.689680Z"
    }
   },
   "outputs": [
    {
     "name": "stdout",
     "output_type": "stream",
     "text": [
      "Updated Array: \n",
      " [[44 15 78 54]\n",
      " [91 99  5 94]\n",
      " [61 16 43  8]\n",
      " [17 88 25 63]\n",
      " [ 6 36 61 34]]\n"
     ]
    }
   ],
   "source": [
    "arr[1,1]=99\n",
    "print(\"Updated Array: \\n\", arr)"
   ]
  },
  {
   "cell_type": "markdown",
   "id": "9a8d4232-12ba-4da5-8add-d7a4b35deb38",
   "metadata": {
    "collapsed": false,
    "jupyter": {
     "outputs_hidden": false
    }
   },
   "source": [
    "# Flatten & Ravel"
   ]
  },
  {
   "cell_type": "code",
   "execution_count": 31,
   "id": "b11cb166-ccd2-41f2-bf9b-492df3c693f2",
   "metadata": {
    "ExecuteTime": {
     "end_time": "2024-03-16T18:20:15.003715Z",
     "start_time": "2024-03-16T18:20:14.992521Z"
    }
   },
   "outputs": [
    {
     "data": {
      "text/plain": [
       "array([[5, 8, 4, 3],\n",
       "       [3, 2, 5, 4],\n",
       "       [2, 8, 9, 2]], dtype=int32)"
      ]
     },
     "execution_count": 31,
     "metadata": {},
     "output_type": "execute_result"
    }
   ],
   "source": [
    "\n",
    "a=np.random.randint(1,11,size=(3,4))\n",
    "a"
   ]
  },
  {
   "cell_type": "code",
   "execution_count": 32,
   "id": "0cb8a23b-abf0-413b-b1ed-26a80bd8b8ae",
   "metadata": {
    "ExecuteTime": {
     "end_time": "2024-03-16T18:20:15.144953Z",
     "start_time": "2024-03-16T18:20:15.135116Z"
    }
   },
   "outputs": [
    {
     "data": {
      "text/plain": [
       "array([5, 8, 4, 3, 3, 2, 5, 4, 2, 8, 9, 2], dtype=int32)"
      ]
     },
     "execution_count": 32,
     "metadata": {},
     "output_type": "execute_result"
    }
   ],
   "source": [
    "a.flatten()"
   ]
  },
  {
   "cell_type": "code",
   "execution_count": 33,
   "id": "2abb0123-368a-4bd0-9de1-dfb3511499aa",
   "metadata": {
    "ExecuteTime": {
     "end_time": "2024-03-16T18:20:15.307069Z",
     "start_time": "2024-03-16T18:20:15.297731Z"
    }
   },
   "outputs": [
    {
     "data": {
      "text/plain": [
       "array([5, 8, 4, 3, 3, 2, 5, 4, 2, 8, 9, 2], dtype=int32)"
      ]
     },
     "execution_count": 33,
     "metadata": {},
     "output_type": "execute_result"
    }
   ],
   "source": [
    "a.ravel()  #faster than flatten"
   ]
  },
  {
   "cell_type": "markdown",
   "id": "45160236-f5ce-40a0-9388-70ad7b4a88f8",
   "metadata": {},
   "source": [
    "# Reshaping Array"
   ]
  },
  {
   "cell_type": "code",
   "execution_count": 34,
   "id": "c810f7c4-12fa-4f48-be7a-651bd0798a0a",
   "metadata": {
    "ExecuteTime": {
     "end_time": "2024-03-16T18:20:15.475077Z",
     "start_time": "2024-03-16T18:20:15.464397Z"
    }
   },
   "outputs": [
    {
     "data": {
      "text/plain": [
       "array([[10,  7,  1,  1],\n",
       "       [ 5, 10,  7,  2],\n",
       "       [ 3,  8,  9,  4]], dtype=int32)"
      ]
     },
     "execution_count": 34,
     "metadata": {},
     "output_type": "execute_result"
    }
   ],
   "source": [
    "a=np.random.randint(1,11,size=(3,4))\n",
    "a"
   ]
  },
  {
   "cell_type": "code",
   "execution_count": 35,
   "id": "de49e8ce-daed-40cc-a031-8ab8953b8c3a",
   "metadata": {
    "ExecuteTime": {
     "end_time": "2024-03-16T18:20:15.607637Z",
     "start_time": "2024-03-16T18:20:15.598891Z"
    }
   },
   "outputs": [
    {
     "data": {
      "text/plain": [
       "array([[10,  7,  1],\n",
       "       [ 1,  5, 10],\n",
       "       [ 7,  2,  3],\n",
       "       [ 8,  9,  4]], dtype=int32)"
      ]
     },
     "execution_count": 35,
     "metadata": {},
     "output_type": "execute_result"
    }
   ],
   "source": [
    "a.reshape(4,3)"
   ]
  },
  {
   "cell_type": "code",
   "execution_count": 36,
   "id": "b584f2a0-847a-4ff7-9998-ee0343a0fdfe",
   "metadata": {
    "ExecuteTime": {
     "end_time": "2024-03-16T18:20:16.504003Z",
     "start_time": "2024-03-16T18:20:15.704637Z"
    }
   },
   "outputs": [],
   "source": [
    "#a.reshape(3,3)"
   ]
  },
  {
   "cell_type": "markdown",
   "id": "e36a93af-aacd-42b8-a80c-5d3fd3deaac3",
   "metadata": {},
   "source": [
    "# Itrator of Array "
   ]
  },
  {
   "cell_type": "markdown",
   "id": "ab6ec35d-1702-4bbd-9019-4f5db3aa58f3",
   "metadata": {},
   "source": [
    "` 1D array `"
   ]
  },
  {
   "cell_type": "code",
   "execution_count": 37,
   "id": "25336a84-1fcb-46f9-9a8e-9c25e89e0285",
   "metadata": {
    "ExecuteTime": {
     "start_time": "2024-03-16T18:20:16.507348Z"
    }
   },
   "outputs": [
    {
     "data": {
      "text/plain": [
       "array([10,  7,  1,  1,  5, 10,  7,  2,  3,  8,  9,  4], dtype=int32)"
      ]
     },
     "execution_count": 37,
     "metadata": {},
     "output_type": "execute_result"
    }
   ],
   "source": [
    "a=a.reshape(12,)\n",
    "a"
   ]
  },
  {
   "cell_type": "code",
   "execution_count": 38,
   "id": "08dee19e-2692-48a6-84c8-023f60e2c690",
   "metadata": {
    "ExecuteTime": {
     "start_time": "2024-03-16T18:20:16.508449Z"
    }
   },
   "outputs": [
    {
     "name": "stdout",
     "output_type": "stream",
     "text": [
      "10,7,1,1,5,10,7,2,3,8,9,4,"
     ]
    }
   ],
   "source": [
    "for i in a:\n",
    "    print(i,end=\",\")"
   ]
  },
  {
   "cell_type": "markdown",
   "id": "e0f11aea-c85e-4618-a035-9776c52465eb",
   "metadata": {},
   "source": [
    "` 2D array `"
   ]
  },
  {
   "cell_type": "code",
   "execution_count": 39,
   "id": "0e256167-cf04-49e6-9666-791943235ce2",
   "metadata": {},
   "outputs": [],
   "source": [
    "a=a.reshape(4,3)"
   ]
  },
  {
   "cell_type": "code",
   "execution_count": 40,
   "id": "ce35ae0f-8b8f-470c-95d5-9b4b33a5ccae",
   "metadata": {
    "ExecuteTime": {
     "start_time": "2024-03-16T18:20:16.515187Z"
    }
   },
   "outputs": [
    {
     "name": "stdout",
     "output_type": "stream",
     "text": [
      "[10  7  1] || [ 1  5 10] || [7 2 3] || [8 9 4] || "
     ]
    }
   ],
   "source": [
    "for i in a:\n",
    "    print(i,end=\" || \")"
   ]
  },
  {
   "cell_type": "markdown",
   "id": "a7313fd8-bbd1-43d9-982f-747bb9c2ef9b",
   "metadata": {},
   "source": [
    "- using ` nditer ` || ` ravel ` || ` flatten `"
   ]
  },
  {
   "cell_type": "code",
   "execution_count": 41,
   "id": "847b87f4-cb6a-4bc6-abff-f2bfb4cb2875",
   "metadata": {},
   "outputs": [
    {
     "name": "stdout",
     "output_type": "stream",
     "text": [
      "10,7,1,1,5,10,7,2,3,8,9,4,"
     ]
    }
   ],
   "source": [
    "for i in np.nditer(a):\n",
    "    print(i,end=\",\")\n"
   ]
  },
  {
   "cell_type": "markdown",
   "id": "ebadc1f6-d65f-454d-9261-049aa4aa92e8",
   "metadata": {},
   "source": [
    "# Operators in numpy"
   ]
  },
  {
   "cell_type": "markdown",
   "id": "8ac52208-cc7e-4f2b-8d70-a98db2074aa9",
   "metadata": {},
   "source": [
    "- `+`\n",
    "- `-`\n",
    "- `*`\n",
    "- `/`\n",
    "- `//`\n",
    "- `%`\n",
    "- `>`\n",
    "- `<`\n",
    "- `==`\n",
    "- `<=`\n",
    "- `>=`"
   ]
  },
  {
   "cell_type": "code",
   "execution_count": 42,
   "id": "2c32b839-263d-4e89-9c3f-b534264aeb79",
   "metadata": {},
   "outputs": [
    {
     "data": {
      "text/plain": [
       "array([[2, 2],\n",
       "       [4, 2]], dtype=int32)"
      ]
     },
     "execution_count": 42,
     "metadata": {},
     "output_type": "execute_result"
    }
   ],
   "source": [
    "a=np.random.randint(1,11,size=(2,2))\n",
    "b=np.random.randint(1,11,size=(2,2))\n",
    "a"
   ]
  },
  {
   "cell_type": "code",
   "execution_count": 43,
   "id": "8cfa390a-013c-47bc-a2a7-a953b6423579",
   "metadata": {
    "ExecuteTime": {
     "start_time": "2024-03-16T18:20:16.520789Z"
    }
   },
   "outputs": [
    {
     "data": {
      "text/plain": [
       "array([[7, 7],\n",
       "       [9, 7]], dtype=int32)"
      ]
     },
     "execution_count": 43,
     "metadata": {},
     "output_type": "execute_result"
    }
   ],
   "source": [
    "a+5"
   ]
  },
  {
   "cell_type": "code",
   "execution_count": 44,
   "id": "a2192051-a8c2-4a4d-9ee8-48038d627b65",
   "metadata": {
    "ExecuteTime": {
     "start_time": "2024-03-16T18:20:16.523047Z"
    }
   },
   "outputs": [
    {
     "data": {
      "text/plain": [
       "(array([[2, 2],\n",
       "        [4, 2]], dtype=int32),\n",
       " array([[5, 1],\n",
       "        [4, 7]], dtype=int32))"
      ]
     },
     "execution_count": 44,
     "metadata": {},
     "output_type": "execute_result"
    }
   ],
   "source": [
    "a,b"
   ]
  },
  {
   "cell_type": "code",
   "execution_count": 45,
   "id": "e84ef280-7341-4da8-b3e6-4e5b20268100",
   "metadata": {},
   "outputs": [
    {
     "data": {
      "text/plain": [
       "array([[1, 1],\n",
       "       [3, 1]], dtype=int32)"
      ]
     },
     "execution_count": 45,
     "metadata": {},
     "output_type": "execute_result"
    }
   ],
   "source": [
    "a-1"
   ]
  },
  {
   "cell_type": "code",
   "execution_count": 46,
   "id": "7faba36a-0f77-4e49-acab-be573e5f47e7",
   "metadata": {},
   "outputs": [
    {
     "data": {
      "text/plain": [
       "array([[-3,  1],\n",
       "       [ 0, -5]], dtype=int32)"
      ]
     },
     "execution_count": 46,
     "metadata": {},
     "output_type": "execute_result"
    }
   ],
   "source": [
    "a-b"
   ]
  },
  {
   "cell_type": "code",
   "execution_count": 47,
   "id": "816a51ae-87d4-43f3-bdea-c3780d586dec",
   "metadata": {
    "ExecuteTime": {
     "end_time": "2024-03-16T18:20:16.578869Z",
     "start_time": "2024-03-16T18:20:16.568688Z"
    }
   },
   "outputs": [
    {
     "data": {
      "text/plain": [
       "array([[1., 1.],\n",
       "       [2., 1.]])"
      ]
     },
     "execution_count": 47,
     "metadata": {},
     "output_type": "execute_result"
    }
   ],
   "source": [
    "a/2"
   ]
  },
  {
   "cell_type": "code",
   "execution_count": 48,
   "id": "c8dd0cc4-dcfb-426f-9a8a-4c1627df13ae",
   "metadata": {
    "ExecuteTime": {
     "end_time": "2024-03-16T18:20:16.886557Z",
     "start_time": "2024-03-16T18:20:16.878480Z"
    }
   },
   "outputs": [
    {
     "data": {
      "text/plain": [
       "array([[1, 1],\n",
       "       [2, 1]], dtype=int32)"
      ]
     },
     "execution_count": 48,
     "metadata": {},
     "output_type": "execute_result"
    }
   ],
   "source": [
    "a//2"
   ]
  },
  {
   "cell_type": "code",
   "execution_count": 49,
   "id": "50e0b5b9-c157-4c9f-ae38-c7421911a97d",
   "metadata": {
    "ExecuteTime": {
     "end_time": "2024-03-16T18:20:17.082521Z",
     "start_time": "2024-03-16T18:20:17.074056Z"
    }
   },
   "outputs": [
    {
     "data": {
      "text/plain": [
       "array([[0, 0],\n",
       "       [0, 0]], dtype=int32)"
      ]
     },
     "execution_count": 49,
     "metadata": {},
     "output_type": "execute_result"
    }
   ],
   "source": [
    "a%2"
   ]
  },
  {
   "cell_type": "code",
   "execution_count": 50,
   "id": "3f9e0415-959e-428f-8159-6508f216babc",
   "metadata": {
    "ExecuteTime": {
     "end_time": "2024-03-16T18:20:17.149222Z",
     "start_time": "2024-03-16T18:20:17.140119Z"
    }
   },
   "outputs": [
    {
     "data": {
      "text/plain": [
       "array([[ True,  True],\n",
       "       [ True,  True]])"
      ]
     },
     "execution_count": 50,
     "metadata": {},
     "output_type": "execute_result"
    }
   ],
   "source": [
    "a==a"
   ]
  },
  {
   "cell_type": "code",
   "execution_count": 51,
   "id": "7bc9ce39-80ce-4644-a987-d8daf66a0fbb",
   "metadata": {
    "ExecuteTime": {
     "end_time": "2024-03-16T18:20:17.218196Z",
     "start_time": "2024-03-16T18:20:17.209647Z"
    }
   },
   "outputs": [
    {
     "data": {
      "text/plain": [
       "array([[5, 1],\n",
       "       [4, 7]], dtype=int32)"
      ]
     },
     "execution_count": 51,
     "metadata": {},
     "output_type": "execute_result"
    }
   ],
   "source": [
    "b"
   ]
  },
  {
   "cell_type": "code",
   "execution_count": 52,
   "id": "e5aaedff-0b90-447f-8348-d1ee85b006a6",
   "metadata": {
    "ExecuteTime": {
     "end_time": "2024-03-16T18:20:17.273526Z",
     "start_time": "2024-03-16T18:20:17.263948Z"
    }
   },
   "outputs": [
    {
     "data": {
      "text/plain": [
       "array([[5, 7],\n",
       "       [8, 9]], dtype=int32)"
      ]
     },
     "execution_count": 52,
     "metadata": {},
     "output_type": "execute_result"
    }
   ],
   "source": [
    "a=np.random.randint(1,11,size=(2,2))\n",
    "a"
   ]
  },
  {
   "cell_type": "code",
   "execution_count": 53,
   "id": "85637f70-4f95-4623-90c6-85d587d76243",
   "metadata": {
    "ExecuteTime": {
     "end_time": "2024-03-16T18:20:17.411384Z",
     "start_time": "2024-03-16T18:20:17.381520Z"
    }
   },
   "outputs": [
    {
     "data": {
      "text/plain": [
       "array([[False,  True],\n",
       "       [ True,  True]])"
      ]
     },
     "execution_count": 53,
     "metadata": {},
     "output_type": "execute_result"
    }
   ],
   "source": [
    "a>b"
   ]
  },
  {
   "cell_type": "code",
   "execution_count": 54,
   "id": "409b1062-88e1-4944-9d70-b8e5b781a448",
   "metadata": {
    "ExecuteTime": {
     "end_time": "2024-03-16T18:20:17.497690Z",
     "start_time": "2024-03-16T18:20:17.471501Z"
    }
   },
   "outputs": [
    {
     "data": {
      "text/plain": [
       "array([[25,  7],\n",
       "       [32, 63]], dtype=int32)"
      ]
     },
     "execution_count": 54,
     "metadata": {},
     "output_type": "execute_result"
    }
   ],
   "source": [
    "a*b"
   ]
  },
  {
   "cell_type": "code",
   "execution_count": 55,
   "id": "de6d9ab7-b205-4486-b8b3-ee97ec744b79",
   "metadata": {
    "ExecuteTime": {
     "end_time": "2024-03-16T18:20:17.566389Z",
     "start_time": "2024-03-16T18:20:17.556740Z"
    }
   },
   "outputs": [
    {
     "data": {
      "text/plain": [
       "array([[10, 14],\n",
       "       [16, 18]], dtype=int32)"
      ]
     },
     "execution_count": 55,
     "metadata": {},
     "output_type": "execute_result"
    }
   ],
   "source": [
    "a*2"
   ]
  },
  {
   "cell_type": "markdown",
   "id": "5435cda0-eb29-4fb6-9227-0400fb214d8e",
   "metadata": {},
   "source": [
    "# numpy for Maths"
   ]
  },
  {
   "cell_type": "code",
   "execution_count": 56,
   "id": "df4dc2de-1677-4314-a9de-393eef0dfcd8",
   "metadata": {},
   "outputs": [
    {
     "data": {
      "text/plain": [
       "(array([[5, 7],\n",
       "        [8, 9]], dtype=int32),\n",
       " array([[5, 1],\n",
       "        [4, 7]], dtype=int32))"
      ]
     },
     "execution_count": 56,
     "metadata": {},
     "output_type": "execute_result"
    }
   ],
   "source": [
    "a,b"
   ]
  },
  {
   "cell_type": "code",
   "execution_count": 57,
   "id": "506bbf60-0180-457b-b5aa-da43ee1814d0",
   "metadata": {},
   "outputs": [
    {
     "data": {
      "text/plain": [
       "array([[10,  8],\n",
       "       [12, 16]], dtype=int32)"
      ]
     },
     "execution_count": 57,
     "metadata": {},
     "output_type": "execute_result"
    }
   ],
   "source": [
    "np.add(a,b)"
   ]
  },
  {
   "cell_type": "code",
   "execution_count": 58,
   "id": "d3bd0114-4e1d-49ed-a454-eddee94b0d51",
   "metadata": {},
   "outputs": [
    {
     "data": {
      "text/plain": [
       "array([[0, 6],\n",
       "       [4, 2]], dtype=int32)"
      ]
     },
     "execution_count": 58,
     "metadata": {},
     "output_type": "execute_result"
    }
   ],
   "source": [
    "np.subtract(a,b)"
   ]
  },
  {
   "cell_type": "code",
   "execution_count": 59,
   "id": "8f3d3ae6-17b0-4d45-9b0e-4fbf64a7da3d",
   "metadata": {},
   "outputs": [
    {
     "data": {
      "text/plain": [
       "array([[0, 6],\n",
       "       [4, 2]], dtype=int32)"
      ]
     },
     "execution_count": 59,
     "metadata": {},
     "output_type": "execute_result"
    }
   ],
   "source": [
    "a-b"
   ]
  },
  {
   "cell_type": "markdown",
   "id": "11803e4a-80b1-4910-8483-723d3b8eb208",
   "metadata": {},
   "source": [
    "`tignometric`\n"
   ]
  },
  {
   "cell_type": "code",
   "execution_count": 60,
   "id": "ea392b4d-1032-4040-bd2c-676daaf41f65",
   "metadata": {},
   "outputs": [
    {
     "data": {
      "text/plain": [
       "array([[5, 7],\n",
       "       [8, 9]], dtype=int32)"
      ]
     },
     "execution_count": 60,
     "metadata": {},
     "output_type": "execute_result"
    }
   ],
   "source": [
    "a"
   ]
  },
  {
   "cell_type": "code",
   "execution_count": 61,
   "id": "5e0554db-d01d-41fc-aed3-b96bee54c421",
   "metadata": {},
   "outputs": [
    {
     "data": {
      "text/plain": [
       "(np.float64(2.0),\n",
       " array([[2.23606798, 2.64575131],\n",
       "        [2.82842712, 3.        ]]))"
      ]
     },
     "execution_count": 61,
     "metadata": {},
     "output_type": "execute_result"
    }
   ],
   "source": [
    "np.sqrt(4),np.sqrt(a)"
   ]
  },
  {
   "cell_type": "code",
   "execution_count": 62,
   "id": "b88358d8-aaa3-487f-ab2a-5a7a1e81f5e9",
   "metadata": {},
   "outputs": [
    {
     "data": {
      "text/plain": [
       "(array([[-0.95892427,  0.6569866 ],\n",
       "        [ 0.98935825,  0.41211849]]),\n",
       " np.float64(0.8414709848078965))"
      ]
     },
     "execution_count": 62,
     "metadata": {},
     "output_type": "execute_result"
    }
   ],
   "source": [
    "np.sin(a),np.sin(1)"
   ]
  },
  {
   "cell_type": "code",
   "execution_count": 63,
   "id": "d0258f45-c388-444b-8e15-4330c5cb9d67",
   "metadata": {},
   "outputs": [
    {
     "data": {
      "text/plain": [
       "np.float64(1.0)"
      ]
     },
     "execution_count": 63,
     "metadata": {},
     "output_type": "execute_result"
    }
   ],
   "source": [
    "np.cos(0)"
   ]
  },
  {
   "cell_type": "code",
   "execution_count": 64,
   "id": "d5c2e1ac-0652-4cf6-aee6-72e1cb41ff2b",
   "metadata": {},
   "outputs": [
    {
     "data": {
      "text/plain": [
       "np.float64(1.0)"
      ]
     },
     "execution_count": 64,
     "metadata": {},
     "output_type": "execute_result"
    }
   ],
   "source": [
    "np.exp(0)"
   ]
  },
  {
   "cell_type": "markdown",
   "id": "21b9f7fa-8b10-43a3-be67-602b6dbf7f4d",
   "metadata": {},
   "source": [
    "`Matrix multiplication`"
   ]
  },
  {
   "cell_type": "code",
   "execution_count": 65,
   "id": "54c7d736-130d-4a7d-8672-7dd3fcc4f5c5",
   "metadata": {},
   "outputs": [
    {
     "data": {
      "text/plain": [
       "(array([[5, 7],\n",
       "        [8, 9]], dtype=int32),\n",
       " array([[5, 1],\n",
       "        [4, 7]], dtype=int32))"
      ]
     },
     "execution_count": 65,
     "metadata": {},
     "output_type": "execute_result"
    }
   ],
   "source": [
    "a,b"
   ]
  },
  {
   "cell_type": "code",
   "execution_count": 66,
   "id": "a7be0df9-104f-4750-826b-abe981b0d9d4",
   "metadata": {},
   "outputs": [
    {
     "data": {
      "text/plain": [
       "array([[53, 54],\n",
       "       [76, 71]], dtype=int32)"
      ]
     },
     "execution_count": 66,
     "metadata": {},
     "output_type": "execute_result"
    }
   ],
   "source": [
    "np.dot(a,b) # 1. way"
   ]
  },
  {
   "cell_type": "code",
   "execution_count": 67,
   "id": "e342c958-806d-44c3-bc6c-5e6f92212e84",
   "metadata": {},
   "outputs": [
    {
     "data": {
      "text/plain": [
       "array([[53, 54],\n",
       "       [76, 71]], dtype=int32)"
      ]
     },
     "execution_count": 67,
     "metadata": {},
     "output_type": "execute_result"
    }
   ],
   "source": [
    "np.matmul(a,b) # 2.way"
   ]
  },
  {
   "cell_type": "code",
   "execution_count": 68,
   "id": "f9c3bc23-02d7-4614-a6bd-0ccd11431304",
   "metadata": {},
   "outputs": [
    {
     "data": {
      "text/plain": [
       "array([[53, 54],\n",
       "       [76, 71]], dtype=int32)"
      ]
     },
     "execution_count": 68,
     "metadata": {},
     "output_type": "execute_result"
    }
   ],
   "source": [
    "a@b        #3. way"
   ]
  },
  {
   "cell_type": "markdown",
   "id": "36d87977-2824-497c-9995-0f3f50331b81",
   "metadata": {},
   "source": [
    "`diagonal elements`"
   ]
  },
  {
   "cell_type": "code",
   "execution_count": 69,
   "id": "389e77c4-5bae-4118-9a03-0c71d816f202",
   "metadata": {},
   "outputs": [
    {
     "data": {
      "text/plain": [
       "array([[4, 1, 2],\n",
       "       [5, 3, 3],\n",
       "       [7, 6, 1]], dtype=int32)"
      ]
     },
     "execution_count": 69,
     "metadata": {},
     "output_type": "execute_result"
    }
   ],
   "source": [
    "a=np.random.randint(1,11,size=(3,3))\n",
    "a"
   ]
  },
  {
   "cell_type": "code",
   "execution_count": 70,
   "id": "315e5875-1ff6-4e76-a09d-34a71ce3ccce",
   "metadata": {},
   "outputs": [
    {
     "data": {
      "text/plain": [
       "array([4, 3, 1], dtype=int32)"
      ]
     },
     "execution_count": 70,
     "metadata": {},
     "output_type": "execute_result"
    }
   ],
   "source": [
    "np.diag(a)"
   ]
  },
  {
   "cell_type": "markdown",
   "id": "179455f7-062a-4d8d-9fba-e613d1448ddf",
   "metadata": {},
   "source": [
    "`transpose`"
   ]
  },
  {
   "cell_type": "code",
   "execution_count": 71,
   "id": "4dd0b92e-35cb-4958-b843-02e0f562934e",
   "metadata": {},
   "outputs": [
    {
     "data": {
      "text/plain": [
       "array([[4, 5, 7],\n",
       "       [1, 3, 6],\n",
       "       [2, 3, 1]], dtype=int32)"
      ]
     },
     "execution_count": 71,
     "metadata": {},
     "output_type": "execute_result"
    }
   ],
   "source": [
    "a.T"
   ]
  },
  {
   "cell_type": "markdown",
   "id": "774f4d91-9266-46a0-8a31-5c13032784c8",
   "metadata": {},
   "source": [
    "# numpy for Static"
   ]
  },
  {
   "cell_type": "code",
   "execution_count": 72,
   "id": "a39d8392-9eea-4a36-857f-6cec3aef5094",
   "metadata": {},
   "outputs": [
    {
     "name": "stdout",
     "output_type": "stream",
     "text": [
      "Array: \n",
      " [[1 2]\n",
      " [3 4]]\n",
      "Sum:  10\n",
      "Columnwise Sum:  [4 6]\n",
      "Rowwise Sum:  [3 7]\n"
     ]
    }
   ],
   "source": [
    "x = np.array([[1,2], [3,4]])\n",
    "print(\"Array: \\n\", x)\n",
    "print(\"Sum: \", np.sum(x))\n",
    "print(\"Columnwise Sum: \", np.sum(x, axis=0)) # Column Wise\n",
    "print(\"Rowwise Sum: \", np.sum(x, axis=1)) # Row wise"
   ]
  },
  {
   "cell_type": "code",
   "execution_count": 73,
   "id": "f0370d33-2a8d-4256-9ce0-02e7c351a33f",
   "metadata": {},
   "outputs": [
    {
     "name": "stdout",
     "output_type": "stream",
     "text": [
      "Array: \n",
      " [[1 2 3]\n",
      " [4 5 6]]\n",
      "Minimum:  1\n",
      "Columnwise Minimum:  [1 2 3]\n",
      "Rowwise Minimum:  [1 4]\n"
     ]
    }
   ],
   "source": [
    "x = np.array([[1, 2, 3], [4, 5, 6]])\n",
    "print(\"Array: \\n\", x)\n",
    "print(\"Minimum: \", np.min(x))\n",
    "print(\"Columnwise Minimum: \", np.min(x, axis=0)) # Column Wise\n",
    "print(\"Rowwise Minimum: \", np.min(x, axis=1)) # Row wise"
   ]
  },
  {
   "cell_type": "code",
   "execution_count": 74,
   "id": "897908d6-633a-45e2-8714-b75bd4b1a4dd",
   "metadata": {},
   "outputs": [
    {
     "name": "stdout",
     "output_type": "stream",
     "text": [
      "Array: \n",
      " [160 180 146 162 184 180]\n",
      "Minimum:  146\n",
      "Maximum:  184\n",
      "Mean:  168.66666666666666\n",
      "Median:  171.0\n",
      "Variance:  187.55555555555557\n",
      "Std Dev:  13.695092389449425\n"
     ]
    }
   ],
   "source": [
    "x = np.array([160, 180, 146, 162, 184, 180])\n",
    "print(\"Array: \\n\", x)\n",
    "print(\"Minimum: \", np.min(x))\n",
    "print(\"Maximum: \", np.max(x))\n",
    "print(\"Mean: \", np.mean(x))\n",
    "print(\"Median: \", np.median(x))\n",
    "print(\"Variance: \", np.var(x))\n",
    "print(\"Std Dev: \", np.std(x))"
   ]
  },
  {
   "cell_type": "code",
   "execution_count": 75,
   "id": "1a5b723a-724f-4ae9-ad5d-7af72ebad247",
   "metadata": {},
   "outputs": [
    {
     "data": {
      "text/plain": [
       "array([[1.        , 0.88546942],\n",
       "       [0.88546942, 1.        ]])"
      ]
     },
     "execution_count": 75,
     "metadata": {},
     "output_type": "execute_result"
    }
   ],
   "source": [
    "heights = np.array([160, 180, 146, 162, 184, 180])\n",
    "weights = np.array([50, 78, 45, 51, 80, 60])\n",
    "a=np.corrcoef(heights, weights)\n",
    "a"
   ]
  },
  {
   "cell_type": "markdown",
   "id": "147e3095-25a1-4388-ab2a-69a9f3d7f3a1",
   "metadata": {},
   "source": [
    "# numpy extra"
   ]
  },
  {
   "cell_type": "code",
   "execution_count": 76,
   "id": "9455cac3-a367-4822-b48b-81d8eaf46cc5",
   "metadata": {
    "ExecuteTime": {
     "end_time": "2024-03-16T18:20:17.772293Z",
     "start_time": "2024-03-16T18:20:17.767811Z"
    }
   },
   "outputs": [
    {
     "name": "stdout",
     "output_type": "stream",
     "text": [
      "1.0\n",
      "1.5\n",
      "2.0\n",
      "2.5\n",
      "3.0\n",
      "3.5\n",
      "4.0\n",
      "4.5\n",
      "5.0\n"
     ]
    }
   ],
   "source": [
    "for i in (np.linspace(1, 5, 9)):\n",
    "    print(i)"
   ]
  },
  {
   "cell_type": "code",
   "execution_count": 77,
   "id": "dc196703-96bb-4599-8d7e-050edf0bbe84",
   "metadata": {},
   "outputs": [
    {
     "name": "stdout",
     "output_type": "stream",
     "text": [
      "[1.  1.5 2.  2.5 3.  3.5 4.  4.5 5. ]\n"
     ]
    }
   ],
   "source": [
    "print(np.linspace(1, 5, 9))"
   ]
  },
  {
   "cell_type": "markdown",
   "id": "c5c37492-8973-4ba9-8590-55aab281b8fd",
   "metadata": {},
   "source": [
    "`vStack`  &  `hStack`"
   ]
  },
  {
   "cell_type": "code",
   "execution_count": 78,
   "id": "6eecab55-0c45-405e-ba1a-253288f47804",
   "metadata": {},
   "outputs": [
    {
     "data": {
      "text/plain": [
       "(array([[9, 8],\n",
       "        [7, 6]]),\n",
       " array([[1, 2],\n",
       "        [3, 4]]))"
      ]
     },
     "execution_count": 78,
     "metadata": {},
     "output_type": "execute_result"
    }
   ],
   "source": [
    "a=np.array([[1,2],[3,4]])\n",
    "b=np.array([[9,8],[7,6]])\n",
    "b,a"
   ]
  },
  {
   "cell_type": "code",
   "execution_count": 79,
   "id": "aee10554-38e9-4978-b80f-206e327e7df8",
   "metadata": {},
   "outputs": [
    {
     "data": {
      "text/plain": [
       "array([[1, 2],\n",
       "       [3, 4],\n",
       "       [9, 8],\n",
       "       [7, 6]])"
      ]
     },
     "execution_count": 79,
     "metadata": {},
     "output_type": "execute_result"
    }
   ],
   "source": [
    "np.vstack([a,b])"
   ]
  },
  {
   "cell_type": "code",
   "execution_count": 80,
   "id": "bc6d29c7-55d8-4ae1-8189-78900e511419",
   "metadata": {},
   "outputs": [
    {
     "data": {
      "text/plain": [
       "array([[1, 2, 9, 8],\n",
       "       [3, 4, 7, 6]])"
      ]
     },
     "execution_count": 80,
     "metadata": {},
     "output_type": "execute_result"
    }
   ],
   "source": [
    "np.hstack([a,b])"
   ]
  },
  {
   "cell_type": "code",
   "execution_count": 81,
   "id": "01c94b5c-80e8-4e41-b7f9-c0ecaa18e96c",
   "metadata": {},
   "outputs": [
    {
     "data": {
      "text/plain": [
       "array([[1, 2, 9, 8],\n",
       "       [3, 4, 7, 6]])"
      ]
     },
     "execution_count": 81,
     "metadata": {},
     "output_type": "execute_result"
    }
   ],
   "source": [
    "np.concatenate([a,b],axis=1)"
   ]
  },
  {
   "cell_type": "markdown",
   "id": "a90b7b5c-6699-4abf-8e7a-f8dadbf8aea3",
   "metadata": {},
   "source": [
    "- where\n",
    "```python\n",
    "numpy.where(  \n",
    "  condition,   # Where True, yield x, otherwise y  \n",
    "  [x, y, ]     # Values to choose from  \n",
    ")  \n",
    "```"
   ]
  },
  {
   "cell_type": "code",
   "execution_count": 82,
   "id": "674288de-b875-4fb6-904e-99ca4cc9c543",
   "metadata": {},
   "outputs": [
    {
     "data": {
      "text/plain": [
       "array([[1, 1, 0, 1],\n",
       "       [0, 0, 1, 0],\n",
       "       [1, 1, 1, 1],\n",
       "       [1, 0, 1, 1],\n",
       "       [1, 1, 1, 1]])"
      ]
     },
     "execution_count": 82,
     "metadata": {},
     "output_type": "execute_result"
    }
   ],
   "source": [
    "np.where(arr > 64, 0, 1)"
   ]
  },
  {
   "cell_type": "code",
   "execution_count": 83,
   "id": "bd9f1fb1-1696-4483-b1fe-c26143ea6e8f",
   "metadata": {},
   "outputs": [
    {
     "data": {
      "text/plain": [
       "array([[44, 15, 78, 54],\n",
       "       [91, 99,  5, 94],\n",
       "       [61, 16, 43,  8],\n",
       "       [17, 88, 25, 63],\n",
       "       [ 6, 36, 61, 34]], dtype=int32)"
      ]
     },
     "execution_count": 83,
     "metadata": {},
     "output_type": "execute_result"
    }
   ],
   "source": [
    "arr\n"
   ]
  },
  {
   "cell_type": "code",
   "execution_count": null,
   "id": "210eb696-c700-42ac-96a9-549d5d63deb4",
   "metadata": {},
   "outputs": [],
   "source": []
  }
 ],
 "metadata": {
  "kernelspec": {
   "display_name": "Python 3 (ipykernel)",
   "language": "python",
   "name": "python3"
  },
  "language_info": {
   "codemirror_mode": {
    "name": "ipython",
    "version": 3
   },
   "file_extension": ".py",
   "mimetype": "text/x-python",
   "name": "python",
   "nbconvert_exporter": "python",
   "pygments_lexer": "ipython3",
   "version": "3.12.2"
  }
 },
 "nbformat": 4,
 "nbformat_minor": 5
}
