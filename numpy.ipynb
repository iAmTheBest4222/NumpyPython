{
 "cells": [
  {
   "cell_type": "markdown",
   "id": "7c8eebad-293d-499f-a43f-b115480bf424",
   "metadata": {
    "collapsed": false
   },
   "source": [
    "* # Numpy from scratch"
   ]
  },
  {
   "cell_type": "code",
   "execution_count": 1,
   "id": "d18a3c74-1d25-441a-903e-08999d917772",
   "metadata": {
    "ExecuteTime": {
     "end_time": "2024-03-12T18:08:01.795576Z",
     "start_time": "2024-03-12T18:08:01.789210Z"
    },
    "collapsed": false
   },
   "outputs": [],
   "source": [
    "import numpy as np"
   ]
  },
  {
   "cell_type": "markdown",
   "id": "c530de31-1e07-44c0-950a-e7e233c64fdf",
   "metadata": {},
   "source": [
    "## How to creat numpy array "
   ]
  },
  {
   "cell_type": "code",
   "execution_count": 2,
   "id": "6765e8fcf0cbe057",
   "metadata": {
    "ExecuteTime": {
     "end_time": "2024-03-12T18:08:19.330707Z",
     "start_time": "2024-03-12T18:08:19.321747Z"
    },
    "collapsed": false
   },
   "outputs": [
    {
     "data": {
      "text/plain": [
       "array([12,  3,  4,  5])"
      ]
     },
     "execution_count": 2,
     "metadata": {},
     "output_type": "execute_result"
    }
   ],
   "source": [
    "a=np.array([12,3,4,5])\n",
    "a"
   ]
  },
  {
   "cell_type": "code",
   "execution_count": 3,
   "id": "29e8c64bf3d8ae56",
   "metadata": {
    "collapsed": false
   },
   "outputs": [
    {
     "data": {
      "text/plain": [
       "(array([ 1,  2,  3,  4,  5,  6,  7,  8,  9, 10]),\n",
       " array([0, 1, 2, 3, 4, 5, 6, 7, 8, 9]))"
      ]
     },
     "execution_count": 3,
     "metadata": {},
     "output_type": "execute_result"
    }
   ],
   "source": [
    "a1=np.arange(1,11)\n",
    "a2=np.arange(10)\n",
    "a1,a2"
   ]
  },
  {
   "cell_type": "code",
   "execution_count": 4,
   "id": "bd21b6a9-8681-45ee-a0be-3e3237fd6db4",
   "metadata": {},
   "outputs": [
    {
     "data": {
      "text/plain": [
       "array([1., 1., 1., 1., 1., 1., 1., 1., 1., 1.])"
      ]
     },
     "execution_count": 4,
     "metadata": {},
     "output_type": "execute_result"
    }
   ],
   "source": [
    "a=np.ones(10,)\n",
    "a"
   ]
  },
  {
   "cell_type": "code",
   "execution_count": 5,
   "id": "7ea7671a-341b-4ede-8d02-8707cf9d2f07",
   "metadata": {},
   "outputs": [
    {
     "data": {
      "text/plain": [
       "array([[0., 0., 0., 0., 0.],\n",
       "       [0., 0., 0., 0., 0.],\n",
       "       [0., 0., 0., 0., 0.],\n",
       "       [0., 0., 0., 0., 0.],\n",
       "       [0., 0., 0., 0., 0.]])"
      ]
     },
     "execution_count": 5,
     "metadata": {},
     "output_type": "execute_result"
    }
   ],
   "source": [
    "a=np.zeros((5,5))\n",
    "a"
   ]
  },
  {
   "cell_type": "code",
   "execution_count": 6,
   "id": "76d12cbd-4e77-4e7a-9a27-6b3c4422b669",
   "metadata": {},
   "outputs": [
    {
     "data": {
      "text/plain": [
       "array([[1., 0.],\n",
       "       [0., 1.]])"
      ]
     },
     "execution_count": 6,
     "metadata": {},
     "output_type": "execute_result"
    }
   ],
   "source": [
    "a=np.eye(2,2)\n",
    "a"
   ]
  },
  {
   "cell_type": "markdown",
   "id": "b7fbdb68-508f-47c8-b9ec-226b8922430d",
   "metadata": {},
   "source": [
    "## Attributes of ndarray"
   ]
  },
  {
   "cell_type": "code",
   "execution_count": 7,
   "id": "9b72266b-fa99-4d0e-a8d2-63dfd9c69823",
   "metadata": {},
   "outputs": [],
   "source": [
    "a1=np.array([1,2,3,4,5])\n",
    "a2=np.array([[1,2],[3,4]])"
   ]
  },
  {
   "cell_type": "code",
   "execution_count": 8,
   "id": "aed5b52e-45f6-4c8b-be35-e16b50cc138b",
   "metadata": {},
   "outputs": [
    {
     "data": {
      "text/plain": [
       "numpy.ndarray"
      ]
     },
     "execution_count": 8,
     "metadata": {},
     "output_type": "execute_result"
    }
   ],
   "source": [
    "type(a1)"
   ]
  },
  {
   "cell_type": "code",
   "execution_count": 9,
   "id": "e5ed5155-b573-4e20-8694-fd01ac28c105",
   "metadata": {},
   "outputs": [
    {
     "name": "stdout",
     "output_type": "stream",
     "text": [
      "(5,)\n",
      "(2, 2)\n"
     ]
    }
   ],
   "source": [
    "print(a1.shape)\n",
    "print(a2.shape)"
   ]
  },
  {
   "cell_type": "code",
   "execution_count": 10,
   "id": "df6aee38-e934-4066-9369-2f6db64520bf",
   "metadata": {},
   "outputs": [
    {
     "name": "stdout",
     "output_type": "stream",
     "text": [
      "1\n",
      "2\n"
     ]
    }
   ],
   "source": [
    "print(a1.ndim)\n",
    "print(a2.ndim)"
   ]
  },
  {
   "cell_type": "code",
   "execution_count": 11,
   "id": "a767682f-aa20-4e4d-8ba7-67314eb7096b",
   "metadata": {},
   "outputs": [
    {
     "name": "stdout",
     "output_type": "stream",
     "text": [
      "int32\n",
      "int32\n"
     ]
    }
   ],
   "source": [
    "print(a1.dtype)\n",
    "print(a2.dtype)"
   ]
  },
  {
   "cell_type": "code",
   "execution_count": 13,
   "id": "e23b60ff-1022-44b6-aff4-325053410b86",
   "metadata": {},
   "outputs": [
    {
     "name": "stdout",
     "output_type": "stream",
     "text": [
      "4\n",
      "4\n"
     ]
    }
   ],
   "source": [
    "print(a1.itemsize)\n",
    "print(a2.itemsize) "
   ]
  },
  {
   "cell_type": "code",
   "execution_count": null,
   "id": "80a8c2d6-fdd2-43fc-83ed-7551c16ba847",
   "metadata": {},
   "outputs": [],
   "source": []
  }
 ],
 "metadata": {
  "kernelspec": {
   "display_name": "Python 3 (ipykernel)",
   "language": "python",
   "name": "python3"
  },
  "language_info": {
   "codemirror_mode": {
    "name": "ipython",
    "version": 3
   },
   "file_extension": ".py",
   "mimetype": "text/x-python",
   "name": "python",
   "nbconvert_exporter": "python",
   "pygments_lexer": "ipython3",
   "version": "3.12.2"
  }
 },
 "nbformat": 4,
 "nbformat_minor": 5
}
