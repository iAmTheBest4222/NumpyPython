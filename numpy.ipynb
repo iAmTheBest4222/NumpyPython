{
 "cells": [
  {
   "cell_type": "markdown",
   "id": "7c8eebad-293d-499f-a43f-b115480bf424",
   "metadata": {
    "collapsed": false,
    "jupyter": {
     "outputs_hidden": false
    }
   },
   "source": [
    "- # Numpy from scratch"
   ]
  },
  {
   "cell_type": "code",
   "execution_count": 1,
   "id": "d18a3c74-1d25-441a-903e-08999d917772",
   "metadata": {
    "ExecuteTime": {
     "end_time": "2024-03-13T18:31:36.560354Z",
     "start_time": "2024-03-13T18:31:35.632138Z"
    },
    "collapsed": false,
    "jupyter": {
     "outputs_hidden": false
    }
   },
   "outputs": [],
   "source": [
    "import numpy as np"
   ]
  },
  {
   "cell_type": "markdown",
   "id": "be0c6b96-2104-4aeb-9c29-c38178bf790b",
   "metadata": {
    "jp-MarkdownHeadingCollapsed": true
   },
   "source": [
    "## Datatypes in numpy"
   ]
  },
  {
   "cell_type": "markdown",
   "id": "10001f9b-1bcb-43ba-b8a0-e0b369907f05",
   "metadata": {},
   "source": [
    "Below is a list of all data types in NumPy and the characters used to represent them.\n",
    "\n",
    "- i - integer\n",
    "- b - boolean\n",
    "- str - string\n",
    "- f - float\n",
    "- m - timedelta\n",
    "- M - datetime\n",
    "- O - object\n",
    "- u - unsigned integer\n",
    "- c - complex float\n",
    "- U - unicode string\n",
    "- V - fixed chunk of memory for other type ( void )"
   ]
  },
  {
   "cell_type": "markdown",
   "id": "c530de31-1e07-44c0-950a-e7e233c64fdf",
   "metadata": {
    "jp-MarkdownHeadingCollapsed": true
   },
   "source": [
    "## How to creat numpy array "
   ]
  },
  {
   "cell_type": "markdown",
   "id": "50222814-7c09-42e1-84ca-59aa5f8efb3e",
   "metadata": {},
   "source": [
    "desc\n",
    "\n",
    "- start -> int\n",
    "- stop  -> int\n",
    "- step  -> int\n",
    "- shape -> (2,3) or 2\n",
    "- order -> int\n",
    "- M     -> int\n",
    "- N     -> int\n",
    "- k     -> int\n"
   ]
  },
  {
   "cell_type": "code",
   "execution_count": 2,
   "id": "6765e8fcf0cbe057",
   "metadata": {
    "ExecuteTime": {
     "start_time": "2024-03-13T18:31:36.565932Z"
    },
    "collapsed": false,
    "jupyter": {
     "outputs_hidden": false
    }
   },
   "outputs": [
    {
     "data": {
      "text/plain": [
       "array([12,  3,  4,  5])"
      ]
     },
     "execution_count": 2,
     "metadata": {},
     "output_type": "execute_result"
    }
   ],
   "source": [
    "a=np.array([12,3,4,5])\n",
    "a"
   ]
  },
  {
   "cell_type": "code",
   "execution_count": 3,
   "id": "29e8c64bf3d8ae56",
   "metadata": {
    "collapsed": false,
    "jupyter": {
     "outputs_hidden": false
    }
   },
   "outputs": [
    {
     "data": {
      "text/plain": [
       "(array([ 1,  2,  3,  4,  5,  6,  7,  8,  9, 10]),\n",
       " array([0, 1, 2, 3, 4, 5, 6, 7, 8, 9]))"
      ]
     },
     "execution_count": 3,
     "metadata": {},
     "output_type": "execute_result"
    }
   ],
   "source": [
    "a1=np.arange(1,11)     # arange(start,stop,step,dtype,like=None)\n",
    "a2=np.arange(10)\n",
    "a1,a2"
   ]
  },
  {
   "cell_type": "code",
   "execution_count": 4,
   "id": "2f96c96b-1242-4982-a5ff-e62761d88d4a",
   "metadata": {},
   "outputs": [
    {
     "data": {
      "text/plain": [
       "array([[0.00000000e+000, 1.43400853e-311],\n",
       "       [1.43400853e-311, 1.43400853e-311]])"
      ]
     },
     "execution_count": 4,
     "metadata": {},
     "output_type": "execute_result"
    }
   ],
   "source": [
    "a=np.empty((2,2))     #empty(shape,dtype,order,like)\n",
    "a"
   ]
  },
  {
   "cell_type": "code",
   "execution_count": 5,
   "id": "bd21b6a9-8681-45ee-a0be-3e3237fd6db4",
   "metadata": {},
   "outputs": [
    {
     "data": {
      "text/plain": [
       "array([1., 1., 1., 1., 1., 1., 1., 1., 1., 1.])"
      ]
     },
     "execution_count": 5,
     "metadata": {},
     "output_type": "execute_result"
    }
   ],
   "source": [
    "a=np.ones(10,)     #ones(shape,dtype,order,like)\n",
    "a"
   ]
  },
  {
   "cell_type": "code",
   "execution_count": 6,
   "id": "7ea7671a-341b-4ede-8d02-8707cf9d2f07",
   "metadata": {},
   "outputs": [
    {
     "data": {
      "text/plain": [
       "array([[0., 0., 0., 0., 0.],\n",
       "       [0., 0., 0., 0., 0.],\n",
       "       [0., 0., 0., 0., 0.],\n",
       "       [0., 0., 0., 0., 0.],\n",
       "       [0., 0., 0., 0., 0.]])"
      ]
     },
     "execution_count": 6,
     "metadata": {},
     "output_type": "execute_result"
    }
   ],
   "source": [
    "a=np.zeros((5,5))  # zerosones(shape,dtype,order,like)\n",
    "a"
   ]
  },
  {
   "cell_type": "code",
   "execution_count": 7,
   "id": "76d12cbd-4e77-4e7a-9a27-6b3c4422b669",
   "metadata": {},
   "outputs": [
    {
     "data": {
      "text/plain": [
       "array([[1., 0.],\n",
       "       [0., 1.]])"
      ]
     },
     "execution_count": 7,
     "metadata": {},
     "output_type": "execute_result"
    }
   ],
   "source": [
    "a=np.eye(2,2)    #eye(N,M,k,dtype,order)\n",
    "a"
   ]
  },
  {
   "cell_type": "code",
   "execution_count": 8,
   "id": "35b957da-fe33-4a28-9167-8e570c9bbbaa",
   "metadata": {},
   "outputs": [
    {
     "data": {
      "text/plain": [
       "array([[6, 1, 2, 5],\n",
       "       [6, 6, 7, 1],\n",
       "       [5, 8, 9, 3]], dtype=int32)"
      ]
     },
     "execution_count": 8,
     "metadata": {},
     "output_type": "execute_result"
    }
   ],
   "source": [
    "a=np.random.randint(1,11,size=(3,4))\n",
    "a"
   ]
  },
  {
   "cell_type": "markdown",
   "id": "b7fbdb68-508f-47c8-b9ec-226b8922430d",
   "metadata": {
    "jp-MarkdownHeadingCollapsed": true
   },
   "source": [
    "## Attributes of ndarray"
   ]
  },
  {
   "cell_type": "code",
   "execution_count": 9,
   "id": "9b72266b-fa99-4d0e-a8d2-63dfd9c69823",
   "metadata": {},
   "outputs": [],
   "source": [
    "a1=np.array([1,2,3,4,5])\n",
    "a2=np.array([[1,2],[3,4]])"
   ]
  },
  {
   "cell_type": "code",
   "execution_count": 10,
   "id": "aed5b52e-45f6-4c8b-be35-e16b50cc138b",
   "metadata": {},
   "outputs": [
    {
     "data": {
      "text/plain": [
       "numpy.ndarray"
      ]
     },
     "execution_count": 10,
     "metadata": {},
     "output_type": "execute_result"
    }
   ],
   "source": [
    "type(a1)"
   ]
  },
  {
   "cell_type": "code",
   "execution_count": 11,
   "id": "e5ed5155-b573-4e20-8694-fd01ac28c105",
   "metadata": {},
   "outputs": [
    {
     "name": "stdout",
     "output_type": "stream",
     "text": [
      "(5,)\n",
      "(2, 2)\n"
     ]
    }
   ],
   "source": [
    "print(a1.shape)\n",
    "print(a2.shape)"
   ]
  },
  {
   "cell_type": "code",
   "execution_count": 12,
   "id": "df6aee38-e934-4066-9369-2f6db64520bf",
   "metadata": {},
   "outputs": [
    {
     "name": "stdout",
     "output_type": "stream",
     "text": [
      "1\n",
      "2\n"
     ]
    }
   ],
   "source": [
    "print(a1.ndim)\n",
    "print(a2.ndim)"
   ]
  },
  {
   "cell_type": "code",
   "execution_count": 13,
   "id": "a767682f-aa20-4e4d-8ba7-67314eb7096b",
   "metadata": {},
   "outputs": [
    {
     "name": "stdout",
     "output_type": "stream",
     "text": [
      "int64\n",
      "int64\n"
     ]
    }
   ],
   "source": [
    "print(a1.dtype)\n",
    "print(a2.dtype)"
   ]
  },
  {
   "cell_type": "code",
   "execution_count": 14,
   "id": "e23b60ff-1022-44b6-aff4-325053410b86",
   "metadata": {},
   "outputs": [
    {
     "name": "stdout",
     "output_type": "stream",
     "text": [
      "8\n",
      "8\n"
     ]
    }
   ],
   "source": [
    "print(a1.itemsize)\n",
    "print(a2.itemsize)"
   ]
  },
  {
   "cell_type": "markdown",
   "id": "8dc7135f-c63a-4809-9b7b-862d5c18730b",
   "metadata": {
    "jp-MarkdownHeadingCollapsed": true
   },
   "source": [
    "# Indexing , Sylicing & Updating"
   ]
  },
  {
   "cell_type": "code",
   "execution_count": null,
   "id": "e260ed53-fa57-4f06-93bc-fb117247b867",
   "metadata": {},
   "outputs": [],
   "source": []
  },
  {
   "cell_type": "code",
   "execution_count": 15,
   "id": "dab78ceb-9d5e-496a-a541-c20d066fbe99",
   "metadata": {},
   "outputs": [],
   "source": [
    "a=np.array([1,2,3,4,5,6,7])\n",
    "b=np.array([[1,2],[3,4]])"
   ]
  },
  {
   "cell_type": "markdown",
   "id": "dd67e51b-2260-43be-ab1a-f46f96f8c241",
   "metadata": {},
   "source": [
    "### indexing"
   ]
  },
  {
   "cell_type": "code",
   "execution_count": 16,
   "id": "379c688a-2093-47a7-acd3-2534bec0bee3",
   "metadata": {},
   "outputs": [
    {
     "data": {
      "text/plain": [
       "np.int64(1)"
      ]
     },
     "execution_count": 16,
     "metadata": {},
     "output_type": "execute_result"
    }
   ],
   "source": [
    "a[0]"
   ]
  },
  {
   "cell_type": "code",
   "execution_count": 17,
   "id": "9467527a-b882-4c3f-b2f1-2dd1b53c5a10",
   "metadata": {},
   "outputs": [
    {
     "data": {
      "text/plain": [
       "array([1, 2])"
      ]
     },
     "execution_count": 17,
     "metadata": {},
     "output_type": "execute_result"
    }
   ],
   "source": [
    "b[0]"
   ]
  },
  {
   "cell_type": "code",
   "execution_count": 18,
   "id": "9218799f-9244-4dfe-a658-23f504b19094",
   "metadata": {},
   "outputs": [
    {
     "data": {
      "text/plain": [
       "np.int64(4)"
      ]
     },
     "execution_count": 18,
     "metadata": {},
     "output_type": "execute_result"
    }
   ],
   "source": [
    "b[1][0]\n",
    "b[1,1]"
   ]
  },
  {
   "cell_type": "markdown",
   "id": "5e473f22-474b-48a2-bef2-ff5c344f1950",
   "metadata": {},
   "source": [
    "- accesing multiple valuse"
   ]
  },
  {
   "cell_type": "code",
   "execution_count": 19,
   "id": "e83ca518-3d88-4fc9-906d-7d9104f77cca",
   "metadata": {},
   "outputs": [
    {
     "data": {
      "text/plain": [
       "array([3, 1])"
      ]
     },
     "execution_count": 19,
     "metadata": {},
     "output_type": "execute_result"
    }
   ],
   "source": [
    "b[[1,0],[0,0]]"
   ]
  },
  {
   "cell_type": "markdown",
   "id": "5c6ff2b9-d1b7-4867-a00b-678d0b55b542",
   "metadata": {},
   "source": [
    "- indexing using boolen valuse"
   ]
  },
  {
   "cell_type": "code",
   "execution_count": 20,
   "id": "888b560f-096e-4bb3-be45-f9dec7dc1b9f",
   "metadata": {},
   "outputs": [
    {
     "data": {
      "text/plain": [
       "array([ 5, 59, 14, 24,  9, 57, 22, 76, 47, 77], dtype=int32)"
      ]
     },
     "execution_count": 20,
     "metadata": {},
     "output_type": "execute_result"
    }
   ],
   "source": [
    "arr = np.random.randint(100, size = (10, ))\n",
    "arr"
   ]
  },
  {
   "cell_type": "code",
   "execution_count": 21,
   "id": "7244a152-5b8c-4e21-b56a-373b3661610f",
   "metadata": {},
   "outputs": [
    {
     "name": "stdout",
     "output_type": "stream",
     "text": [
      "[ 5 57 47 77]\n"
     ]
    }
   ],
   "source": [
    "idx = [True, False, False, False, False, True, False, False, True, True]\n",
    "\n",
    "print(arr[idx])"
   ]
  },
  {
   "cell_type": "markdown",
   "id": "54008175-38c8-4873-89b9-c8959df55227",
   "metadata": {},
   "source": [
    "### Slycing"
   ]
  },
  {
   "cell_type": "code",
   "execution_count": 22,
   "id": "de9d71f5-31e8-450e-b5a3-a06d04d43143",
   "metadata": {},
   "outputs": [
    {
     "data": {
      "text/plain": [
       "array([1, 2, 3])"
      ]
     },
     "execution_count": 22,
     "metadata": {},
     "output_type": "execute_result"
    }
   ],
   "source": [
    "a[:3]"
   ]
  },
  {
   "cell_type": "code",
   "execution_count": 23,
   "id": "2b3a5193-d7b5-4fe2-8288-ee90457d4d0d",
   "metadata": {},
   "outputs": [
    {
     "data": {
      "text/plain": [
       "array([7, 6, 5, 4, 3, 2, 1])"
      ]
     },
     "execution_count": 23,
     "metadata": {},
     "output_type": "execute_result"
    }
   ],
   "source": [
    "a[::-1]"
   ]
  },
  {
   "cell_type": "code",
   "execution_count": 24,
   "id": "0f0abc4c-402b-45f0-ba72-304cea9b415a",
   "metadata": {},
   "outputs": [
    {
     "data": {
      "text/plain": [
       "array([[ 1,  2,  3,  4],\n",
       "       [ 5,  6,  7,  8],\n",
       "       [ 9, 10, 11, 12]])"
      ]
     },
     "execution_count": 24,
     "metadata": {},
     "output_type": "execute_result"
    }
   ],
   "source": [
    "arr = np.array([[1, 2, 3, 4], [5, 6, 7, 8], [9, 10, 11, 12]])\n",
    "arr"
   ]
  },
  {
   "cell_type": "code",
   "execution_count": 25,
   "id": "ac44cde6-1cb2-423e-b123-827a617eea13",
   "metadata": {},
   "outputs": [
    {
     "data": {
      "text/plain": [
       "array([[1, 2, 3, 4],\n",
       "       [5, 6, 7, 8]])"
      ]
     },
     "execution_count": 25,
     "metadata": {},
     "output_type": "execute_result"
    }
   ],
   "source": [
    "arr[0:2]"
   ]
  },
  {
   "cell_type": "markdown",
   "id": "b2f38697-8af2-4b98-bc97-add8b2a89cab",
   "metadata": {},
   "source": [
    "-"
   ]
  },
  {
   "cell_type": "code",
   "execution_count": 26,
   "id": "1ade3bfe-41a4-464b-aaf8-fb3eb5451ea1",
   "metadata": {},
   "outputs": [
    {
     "data": {
      "text/plain": [
       "array([[1, 2],\n",
       "       [5, 6]])"
      ]
     },
     "execution_count": 26,
     "metadata": {},
     "output_type": "execute_result"
    }
   ],
   "source": [
    "arr[0:2,0:2]"
   ]
  },
  {
   "cell_type": "code",
   "execution_count": 27,
   "id": "4a6d99e7-cab0-4457-81a5-cd1f3a350f38",
   "metadata": {},
   "outputs": [
    {
     "data": {
      "text/plain": [
       "array([], shape=(0, 4), dtype=int64)"
      ]
     },
     "execution_count": 27,
     "metadata": {},
     "output_type": "execute_result"
    }
   ],
   "source": [
    "arr[0:2][2:]"
   ]
  },
  {
   "cell_type": "code",
   "execution_count": 28,
   "id": "fc39b88c-f2d9-4975-b702-5ebe87d2f136",
   "metadata": {},
   "outputs": [
    {
     "data": {
      "text/plain": [
       "array([[3, 4],\n",
       "       [7, 8]])"
      ]
     },
     "execution_count": 28,
     "metadata": {},
     "output_type": "execute_result"
    }
   ],
   "source": [
    "arr[0:2,2:]"
   ]
  },
  {
   "cell_type": "markdown",
   "id": "f6b0d6f5-f917-4fa1-90d5-1724c9184ce1",
   "metadata": {},
   "source": [
    "### Updating"
   ]
  },
  {
   "cell_type": "code",
   "execution_count": 29,
   "id": "18be8b58-d933-4c74-bd0e-819053d68fc6",
   "metadata": {},
   "outputs": [
    {
     "name": "stdout",
     "output_type": "stream",
     "text": [
      "[[24 89 81 55]\n",
      " [29 78 27 76]\n",
      " [46 95 71 45]\n",
      " [15 36 73 64]\n",
      " [83 62 69 63]]\n"
     ]
    }
   ],
   "source": [
    "arr = np.random.randint(100, size = (5, 4))\n",
    "print(arr)"
   ]
  },
  {
   "cell_type": "code",
   "execution_count": 30,
   "id": "944622d9-09ee-417e-96ce-de0b41c47093",
   "metadata": {
    "ExecuteTime": {
     "end_time": "2024-03-14T19:14:19.003178Z",
     "start_time": "2024-03-14T19:14:18.408118Z"
    }
   },
   "outputs": [
    {
     "name": "stdout",
     "output_type": "stream",
     "text": [
      "Updated Array: \n",
      " [[24 89 81 55]\n",
      " [29 99 27 76]\n",
      " [46 95 71 45]\n",
      " [15 36 73 64]\n",
      " [83 62 69 63]]\n"
     ]
    }
   ],
   "source": [
    "arr[1,1]=99\n",
    "print(\"Updated Array: \\n\", arr)"
   ]
  },
  {
   "cell_type": "markdown",
   "id": "9a8d4232-12ba-4da5-8add-d7a4b35deb38",
   "metadata": {
    "collapsed": false,
    "jp-MarkdownHeadingCollapsed": true,
    "jupyter": {
     "outputs_hidden": false
    }
   },
   "source": [
    "# Flatten & Ravel"
   ]
  },
  {
   "cell_type": "code",
   "execution_count": 31,
   "id": "b11cb166-ccd2-41f2-bf9b-492df3c693f2",
   "metadata": {},
   "outputs": [
    {
     "data": {
      "text/plain": [
       "array([[10,  4,  5,  8],\n",
       "       [ 4, 10,  7,  9],\n",
       "       [ 8,  8,  5,  3]], dtype=int32)"
      ]
     },
     "execution_count": 31,
     "metadata": {},
     "output_type": "execute_result"
    }
   ],
   "source": [
    "\n",
    "a=np.random.randint(1,11,size=(3,4))\n",
    "a"
   ]
  },
  {
   "cell_type": "code",
   "execution_count": 32,
   "id": "0cb8a23b-abf0-413b-b1ed-26a80bd8b8ae",
   "metadata": {},
   "outputs": [
    {
     "data": {
      "text/plain": [
       "array([10,  4,  5,  8,  4, 10,  7,  9,  8,  8,  5,  3], dtype=int32)"
      ]
     },
     "execution_count": 32,
     "metadata": {},
     "output_type": "execute_result"
    }
   ],
   "source": [
    "a.flatten()"
   ]
  },
  {
   "cell_type": "code",
   "execution_count": 33,
   "id": "2abb0123-368a-4bd0-9de1-dfb3511499aa",
   "metadata": {},
   "outputs": [
    {
     "data": {
      "text/plain": [
       "array([10,  4,  5,  8,  4, 10,  7,  9,  8,  8,  5,  3], dtype=int32)"
      ]
     },
     "execution_count": 33,
     "metadata": {},
     "output_type": "execute_result"
    }
   ],
   "source": [
    "a.ravel()  #faster than flatten"
   ]
  },
  {
   "cell_type": "markdown",
   "id": "45160236-f5ce-40a0-9388-70ad7b4a88f8",
   "metadata": {
    "jp-MarkdownHeadingCollapsed": true
   },
   "source": [
    "# Reshaping Array"
   ]
  },
  {
   "cell_type": "code",
   "execution_count": 34,
   "id": "c810f7c4-12fa-4f48-be7a-651bd0798a0a",
   "metadata": {},
   "outputs": [
    {
     "data": {
      "text/plain": [
       "array([[ 5,  6,  3,  6],\n",
       "       [ 7,  9,  8,  4],\n",
       "       [ 5, 10,  1,  2]], dtype=int32)"
      ]
     },
     "execution_count": 34,
     "metadata": {},
     "output_type": "execute_result"
    }
   ],
   "source": [
    "a=np.random.randint(1,11,size=(3,4))\n",
    "a"
   ]
  },
  {
   "cell_type": "code",
   "execution_count": 35,
   "id": "de49e8ce-daed-40cc-a031-8ab8953b8c3a",
   "metadata": {},
   "outputs": [
    {
     "data": {
      "text/plain": [
       "array([[ 5,  6,  3],\n",
       "       [ 6,  7,  9],\n",
       "       [ 8,  4,  5],\n",
       "       [10,  1,  2]], dtype=int32)"
      ]
     },
     "execution_count": 35,
     "metadata": {},
     "output_type": "execute_result"
    }
   ],
   "source": [
    "a.reshape(4,3)"
   ]
  },
  {
   "cell_type": "code",
   "execution_count": 36,
   "id": "b584f2a0-847a-4ff7-9998-ee0343a0fdfe",
   "metadata": {},
   "outputs": [
    {
     "ename": "ValueError",
     "evalue": "cannot reshape array of size 12 into shape (3,3)",
     "output_type": "error",
     "traceback": [
      "\u001b[1;31m---------------------------------------------------------------------------\u001b[0m",
      "\u001b[1;31mValueError\u001b[0m                                Traceback (most recent call last)",
      "Cell \u001b[1;32mIn[36], line 1\u001b[0m\n\u001b[1;32m----> 1\u001b[0m \u001b[43ma\u001b[49m\u001b[38;5;241;43m.\u001b[39;49m\u001b[43mreshape\u001b[49m\u001b[43m(\u001b[49m\u001b[38;5;241;43m3\u001b[39;49m\u001b[43m,\u001b[49m\u001b[38;5;241;43m3\u001b[39;49m\u001b[43m)\u001b[49m\n",
      "\u001b[1;31mValueError\u001b[0m: cannot reshape array of size 12 into shape (3,3)"
     ]
    }
   ],
   "source": [
    "a.reshape(3,3)"
   ]
  },
  {
   "cell_type": "markdown",
   "id": "e36a93af-aacd-42b8-a80c-5d3fd3deaac3",
   "metadata": {},
   "source": [
    "# Itrator of Array "
   ]
  },
  {
   "cell_type": "markdown",
   "id": "ab6ec35d-1702-4bbd-9019-4f5db3aa58f3",
   "metadata": {},
   "source": [
    "` 1D array `"
   ]
  },
  {
   "cell_type": "code",
   "execution_count": 39,
   "id": "25336a84-1fcb-46f9-9a8e-9c25e89e0285",
   "metadata": {},
   "outputs": [
    {
     "data": {
      "text/plain": [
       "array([ 5,  6,  3,  6,  7,  9,  8,  4,  5, 10,  1,  2], dtype=int32)"
      ]
     },
     "execution_count": 39,
     "metadata": {},
     "output_type": "execute_result"
    }
   ],
   "source": [
    "a=a.reshape(12,)\n",
    "a"
   ]
  },
  {
   "cell_type": "code",
   "execution_count": 40,
   "id": "08dee19e-2692-48a6-84c8-023f60e2c690",
   "metadata": {},
   "outputs": [
    {
     "name": "stdout",
     "output_type": "stream",
     "text": [
      "5,6,3,6,7,9,8,4,5,10,1,2,"
     ]
    }
   ],
   "source": [
    "for i in a:\n",
    "    print(i,end=\",\")"
   ]
  },
  {
   "cell_type": "markdown",
   "id": "e0f11aea-c85e-4618-a035-9776c52465eb",
   "metadata": {},
   "source": [
    "` 2D array `"
   ]
  },
  {
   "cell_type": "code",
   "execution_count": 47,
   "id": "0e256167-cf04-49e6-9666-791943235ce2",
   "metadata": {},
   "outputs": [],
   "source": [
    "a=a.reshape(4,3)"
   ]
  },
  {
   "cell_type": "code",
   "execution_count": 48,
   "id": "ce35ae0f-8b8f-470c-95d5-9b4b33a5ccae",
   "metadata": {},
   "outputs": [
    {
     "name": "stdout",
     "output_type": "stream",
     "text": [
      "[5 6 3] || [6 7 9] || [8 4 5] || [10  1  2] || "
     ]
    }
   ],
   "source": [
    "for i in a:\n",
    "    print(i,end=\" || \")"
   ]
  },
  {
   "cell_type": "markdown",
   "id": "a7313fd8-bbd1-43d9-982f-747bb9c2ef9b",
   "metadata": {},
   "source": [
    "- using ` nditer ` || ` ravel ` || ` flatten `"
   ]
  },
  {
   "cell_type": "code",
   "execution_count": 52,
   "id": "847b87f4-cb6a-4bc6-abff-f2bfb4cb2875",
   "metadata": {},
   "outputs": [
    {
     "name": "stdout",
     "output_type": "stream",
     "text": [
      "5,6,3,6,7,9,8,4,5,10,1,2,"
     ]
    }
   ],
   "source": [
    "for i in np.nditer(a):\n",
    "    print(i,end=\",\")\n"
   ]
  },
  {
   "cell_type": "code",
   "execution_count": null,
   "id": "d358aa0f-8b01-45f8-a840-c8c0c7548269",
   "metadata": {},
   "outputs": [],
   "source": []
  }
 ],
 "metadata": {
  "kernelspec": {
   "display_name": "Python 3 (ipykernel)",
   "language": "python",
   "name": "python3"
  },
  "language_info": {
   "codemirror_mode": {
    "name": "ipython",
    "version": 3
   },
   "file_extension": ".py",
   "mimetype": "text/x-python",
   "name": "python",
   "nbconvert_exporter": "python",
   "pygments_lexer": "ipython3",
   "version": "3.12.2"
  }
 },
 "nbformat": 4,
 "nbformat_minor": 5
}
